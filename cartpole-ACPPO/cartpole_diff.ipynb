{
 "cells": [
  {
   "cell_type": "code",
   "execution_count": 1,
   "metadata": {},
   "outputs": [],
   "source": [
    "import gym\n",
    "import logging\n",
    "import gym\n",
    "from gym import spaces\n",
    "from gym.utils import seeding\n",
    "import numpy as np\n",
    "import env\n",
    "%load_ext autoreload\n",
    "%matplotlib inline\n",
    "%autoreload 2\n",
    "import matplotlib\n",
    "import matplotlib.pyplot as plt\n",
    "from IPython import display"
   ]
  },
  {
   "cell_type": "code",
   "execution_count": 2,
   "metadata": {},
   "outputs": [],
   "source": [
    "Q=np.eye(4)\n",
    "Q[2,2]=100\n",
    "Q[0,0]=1\n",
    "Q*=0.1\n",
    "R=0.1\n",
    "state_track=np.array([1,0,0 * np.pi,0])\n",
    "gamma=0.95"
   ]
  },
  {
   "cell_type": "code",
   "execution_count": null,
   "metadata": {},
   "outputs": [],
   "source": []
  },
  {
   "cell_type": "code",
   "execution_count": 3,
   "metadata": {},
   "outputs": [],
   "source": [
    "def Cost(Q,R,K,g,state_track,state_0=np.array([0.0, 0.0, 0 * np.pi, 0.0]),gamma=0.9,show=False):\n",
    "    env = gym.make('CartPoleLQR-v0').env\n",
    "    state = env.reset(Q,R,state_track,state_0,gamma)\n",
    "    cost=0\n",
    "    f_max=20\n",
    "    if show:\n",
    "        img = plt.imshow(env.render(mode='rgb_array'))\n",
    "    while True:\n",
    "        if show:\n",
    "            img.set_data(env.render(mode='rgb_array')) # just update the data\n",
    "            display.display(plt.gcf())\n",
    "            display.clear_output(wait=True)\n",
    "        u=K.dot(np.array(state))+g\n",
    "        #print(u)\n",
    "        #print(cost)\n",
    "        u=np.asscalar(u)\n",
    "        u=np.clip(u,-f_max,f_max)\n",
    "        state, reward, done, _ = env.step([u])\n",
    "        cost+=-reward\n",
    "        if done:\n",
    "            break\n",
    "    return cost"
   ]
  },
  {
   "cell_type": "code",
   "execution_count": 4,
   "metadata": {},
   "outputs": [],
   "source": [
    "def sample_u(d):\n",
    "    ret=np.zeros(d)\n",
    "    for i in range(d):\n",
    "        ret[i]=np.random.normal(0,1)\n",
    "    ret/=np.linalg.norm(ret)\n",
    "    return ret\n",
    "# one point zeroth order estimater\n",
    "def gr_1(A,B,Q,R,K,g,x_,x_0,gamma):#TODO\n",
    "    r=0.01\n",
    "    n,k=B.shape\n",
    "    d=n*k+k\n",
    "    u=sample_u(n*k+k)\n",
    "    u_K=u[:n*k].reshape(n,k)\n",
    "    u_g=u[-k:]\n",
    "    \n",
    "    cost=Cost(A,B,Q,R,K+r*u_K,g+r*u_g,x_,x_0)\n",
    "    ret=d/r*cost\n",
    "    return ret*u_K,ret*u_g\n",
    "def gr_2(Q,R,K,g,x_,x_0=np.array([0.0, 0.0, 0* np.pi, 0.0]),gamma=0.9):\n",
    "    r=0.01\n",
    "    n=4\n",
    "    k=1\n",
    "    d=n*k+k\n",
    "    u=sample_u(n*k+k)\n",
    "    u_K=u[:n*k].reshape(k,n)\n",
    "    u_g=u[-k:]\n",
    "    #print(K,r*u_K)\n",
    "    #print(g+r*u_g)\n",
    "    cost1=Cost(Q,R,K+r*u_K,g+r*u_g,x_,x_0,gamma=gamma)\n",
    "    cost2=Cost(Q,R,K-r*u_K,g-r*u_g,x_,x_0,gamma=gamma)\n",
    "    ret=d/(2*r)*(cost1-cost2)\n",
    "    \n",
    "    return ret*u_K,ret*u_g\n",
    "def sample_x0():\n",
    "    return np.array([0,0,np.random.normal()* np.pi*0.1,0])"
   ]
  },
  {
   "cell_type": "code",
   "execution_count": 5,
   "metadata": {},
   "outputs": [
    {
     "ename": "NameError",
     "evalue": "name 'K' is not defined",
     "output_type": "error",
     "traceback": [
      "\u001b[1;31m---------------------------------------------------------------------------\u001b[0m",
      "\u001b[1;31mNameError\u001b[0m                                 Traceback (most recent call last)",
      "\u001b[1;32m<ipython-input-5-a422a856010e>\u001b[0m in \u001b[0;36m<module>\u001b[1;34m\u001b[0m\n\u001b[1;32m----> 1\u001b[1;33m \u001b[0mgr_2\u001b[0m\u001b[1;33m(\u001b[0m\u001b[0mQ\u001b[0m\u001b[1;33m,\u001b[0m\u001b[0mR\u001b[0m\u001b[1;33m,\u001b[0m\u001b[0mK\u001b[0m\u001b[1;33m,\u001b[0m\u001b[0mg\u001b[0m\u001b[1;33m,\u001b[0m\u001b[0mstate_track\u001b[0m\u001b[1;33m,\u001b[0m\u001b[0mgamma\u001b[0m\u001b[1;33m=\u001b[0m\u001b[1;36m0.95\u001b[0m\u001b[1;33m)\u001b[0m\u001b[1;33m\u001b[0m\u001b[1;33m\u001b[0m\u001b[0m\n\u001b[0m",
      "\u001b[1;31mNameError\u001b[0m: name 'K' is not defined"
     ]
    }
   ],
   "source": [
    "gr_2(Q,R,K,g,state_track,gamma=0.95)"
   ]
  },
  {
   "cell_type": "code",
   "execution_count": 33,
   "metadata": {},
   "outputs": [
    {
     "data": {
      "text/plain": [
       "array([[2.94281092]])"
      ]
     },
     "execution_count": 33,
     "metadata": {},
     "output_type": "execute_result"
    },
    {
     "data": {
      "image/png": "[encoded data removed]",
      "text/plain": [
       "<Figure size 432x288 with 1 Axes>"
      ]
     },
     "metadata": {
      "needs_background": "light"
     },
     "output_type": "display_data"
    }
   ],
   "source": [
    "i=3\n",
    "Cost(Q,R,K_global,local_gs[i],x_track[i],state_0=x_0[i],gamma=gamma,show=True)"
   ]
  },
  {
   "cell_type": "code",
   "execution_count": 34,
   "metadata": {},
   "outputs": [
    {
     "data": {
      "text/plain": [
       "[array([[0.84847866]]),\n",
       " array([[0.76020679]]),\n",
       " array([[0.68747997]]),\n",
       " array([[0.60099554]])]"
      ]
     },
     "execution_count": 34,
     "metadata": {},
     "output_type": "execute_result"
    }
   ],
   "source": [
    "local_gs"
   ]
  },
  {
   "cell_type": "markdown",
   "metadata": {},
   "source": [
    "# 4 agents diff target"
   ]
  },
  {
   "cell_type": "code",
   "execution_count": 68,
   "metadata": {},
   "outputs": [
    {
     "name": "stderr",
     "output_type": "stream",
     "text": [
      "C:\\Users\\zhong\\Anaconda3\\lib\\site-packages\\ipykernel_launcher.py:16: DeprecationWarning: np.asscalar(a) is deprecated since NumPy v1.16, use a.item() instead\n",
      "  app.launch_new_instance()\n"
     ]
    },
    {
     "name": "stdout",
     "output_type": "stream",
     "text": [
      "Agent0: [[187.65992355]]\n",
      "epoch:0, average cost:186.6908032744311\n",
      "epoch:10, average cost:206.40271376713946\n",
      "epoch:20, average cost:73.89299031461488\n",
      "epoch:30, average cost:162.33193928267036\n",
      "epoch:40, average cost:171.4755289460693\n",
      "epoch:50, average cost:162.43479782327262\n",
      "epoch:60, average cost:178.56124944905767\n",
      "epoch:70, average cost:91.26359233403133\n",
      "epoch:80, average cost:152.14989230485713\n",
      "epoch:90, average cost:191.00165737308157\n",
      "epoch:100, average cost:50.50024879262808\n",
      "epoch:110, average cost:118.53240196427205\n",
      "epoch:120, average cost:55.04682419012989\n",
      "epoch:130, average cost:147.01049035493762\n",
      "epoch:140, average cost:151.05033072588134\n",
      "epoch:150, average cost:72.52403083898125\n",
      "epoch:160, average cost:220.05313560728402\n",
      "epoch:170, average cost:127.0842357422963\n",
      "epoch:180, average cost:73.69286043759557\n",
      "epoch:190, average cost:126.73530044804333\n",
      "epoch:200, average cost:38.44934780995146\n",
      "epoch:210, average cost:40.1724133784308\n",
      "epoch:220, average cost:59.44549489519709\n",
      "epoch:230, average cost:38.19485573348542\n",
      "epoch:240, average cost:72.26172969900641\n",
      "epoch:250, average cost:104.917840193543\n",
      "epoch:260, average cost:43.95203782850435\n",
      "epoch:270, average cost:107.58590473459007\n",
      "epoch:280, average cost:59.30365410626238\n",
      "epoch:290, average cost:40.68840450272216\n",
      "epoch:300, average cost:43.85064255064482\n",
      "epoch:310, average cost:36.48811395032916\n",
      "epoch:320, average cost:63.81727646378613\n",
      "epoch:330, average cost:65.8871077269661\n",
      "epoch:340, average cost:71.9209289221432\n",
      "epoch:350, average cost:37.276168886382614\n",
      "epoch:360, average cost:93.36417292710128\n",
      "epoch:370, average cost:35.23291218236417\n",
      "epoch:380, average cost:35.02593699457096\n",
      "epoch:390, average cost:94.11535510001937\n",
      "epoch:400, average cost:65.63352532788454\n",
      "epoch:410, average cost:72.94688904266575\n",
      "epoch:420, average cost:51.129677684675414\n",
      "epoch:430, average cost:128.90073149256023\n",
      "epoch:440, average cost:70.08190250926278\n",
      "epoch:450, average cost:30.109964009529023\n",
      "epoch:460, average cost:76.0800790286874\n",
      "epoch:470, average cost:71.06964768786159\n",
      "epoch:480, average cost:60.76086280096954\n",
      "epoch:490, average cost:139.66994662844203\n",
      "epoch:500, average cost:61.50458167960335\n",
      "epoch:510, average cost:74.08849655726584\n",
      "epoch:520, average cost:64.722295572045\n",
      "epoch:530, average cost:38.23172748390792\n",
      "epoch:540, average cost:64.76548805646237\n",
      "epoch:550, average cost:45.52658028885265\n",
      "epoch:560, average cost:144.63494790680932\n",
      "epoch:570, average cost:123.22397030297283\n",
      "epoch:580, average cost:109.7541158727599\n",
      "epoch:590, average cost:153.74316302456552\n",
      "epoch:600, average cost:146.36267788790613\n",
      "epoch:610, average cost:102.95157065934461\n",
      "epoch:620, average cost:78.3661203646466\n",
      "epoch:630, average cost:177.94785154271702\n",
      "epoch:640, average cost:82.98699271207876\n",
      "epoch:650, average cost:35.79990804705054\n",
      "epoch:660, average cost:201.16138774707233\n",
      "epoch:670, average cost:81.57226482129086\n",
      "epoch:680, average cost:67.19784747002517\n",
      "epoch:690, average cost:42.96912877092657\n",
      "epoch:700, average cost:45.68921731324007\n",
      "epoch:710, average cost:71.41256122282914\n",
      "epoch:720, average cost:129.5357378731856\n",
      "epoch:730, average cost:76.79390448207582\n",
      "epoch:740, average cost:34.83267560645976\n",
      "epoch:750, average cost:115.59595841240831\n",
      "epoch:760, average cost:54.448584411777034\n",
      "epoch:770, average cost:83.54692986968936\n",
      "epoch:780, average cost:64.42664612541213\n",
      "epoch:790, average cost:36.42228898349885\n",
      "epoch:800, average cost:44.958131009653954\n",
      "epoch:810, average cost:55.923391006322866\n",
      "epoch:820, average cost:31.771296336839985\n",
      "epoch:830, average cost:40.25191607320071\n",
      "epoch:840, average cost:33.81526474293162\n",
      "epoch:850, average cost:50.83691493504464\n",
      "epoch:860, average cost:44.741874779547516\n",
      "epoch:870, average cost:39.973841161625046\n",
      "epoch:880, average cost:35.85215843860101\n",
      "epoch:890, average cost:33.380423414373766\n",
      "epoch:900, average cost:44.28943294394688\n",
      "epoch:910, average cost:37.16053062853007\n",
      "epoch:920, average cost:67.84973258875073\n",
      "epoch:930, average cost:38.989483781192746\n",
      "epoch:940, average cost:50.31532558350721\n",
      "epoch:950, average cost:78.63101267355997\n",
      "epoch:960, average cost:51.30200884105263\n",
      "epoch:970, average cost:69.21896483741152\n",
      "epoch:980, average cost:110.58805496117614\n",
      "epoch:990, average cost:107.95312874828161\n",
      "epoch:1000, average cost:59.6109066936423\n",
      "epoch:1010, average cost:42.21380932829837\n",
      "epoch:1020, average cost:36.01486150227016\n",
      "epoch:1030, average cost:53.728647234238046\n",
      "epoch:1040, average cost:31.484028333398257\n",
      "epoch:1050, average cost:42.87986185676279\n",
      "epoch:1060, average cost:36.00341220165424\n",
      "epoch:1070, average cost:34.817084073735124\n",
      "epoch:1080, average cost:66.79081741693116\n",
      "epoch:1090, average cost:42.55617734848374\n",
      "epoch:1100, average cost:31.23555485083904\n",
      "epoch:1110, average cost:34.06818380872433\n",
      "epoch:1120, average cost:45.19820384802385\n",
      "epoch:1130, average cost:41.381678308579914\n",
      "epoch:1140, average cost:41.59457033056242\n",
      "epoch:1150, average cost:33.912569165575846\n",
      "epoch:1160, average cost:30.412134042367448\n",
      "epoch:1170, average cost:29.78655760771048\n",
      "epoch:1180, average cost:31.40049849272918\n",
      "epoch:1190, average cost:34.30886748685661\n",
      "epoch:1200, average cost:29.747901558982797\n",
      "epoch:1210, average cost:37.806993191932015\n",
      "epoch:1220, average cost:38.4709574967611\n",
      "epoch:1230, average cost:31.119229546463842\n",
      "epoch:1240, average cost:37.60521721115063\n",
      "epoch:1250, average cost:34.575586560251026\n",
      "epoch:1260, average cost:30.818220599453735\n",
      "epoch:1270, average cost:30.497030471573723\n",
      "epoch:1280, average cost:30.693938102952238\n",
      "epoch:1290, average cost:30.24889924064633\n",
      "epoch:1300, average cost:30.141907242616274\n",
      "epoch:1310, average cost:30.4865918593985\n",
      "epoch:1320, average cost:33.18277226967675\n",
      "epoch:1330, average cost:29.265190603009625\n",
      "epoch:1340, average cost:31.029189530420634\n",
      "epoch:1350, average cost:32.18571039662603\n",
      "epoch:1360, average cost:29.659713087645322\n",
      "epoch:1370, average cost:29.649777312003163\n",
      "epoch:1380, average cost:29.5116999731747\n",
      "epoch:1390, average cost:29.210467178404855\n",
      "epoch:1400, average cost:29.216653949343943\n",
      "epoch:1410, average cost:29.357229038685926\n",
      "epoch:1420, average cost:29.244833611673915\n",
      "epoch:1430, average cost:29.87885745583176\n",
      "epoch:1440, average cost:30.62533057853625\n",
      "epoch:1450, average cost:30.445483682201157\n",
      "epoch:1460, average cost:29.185166277405937\n",
      "epoch:1470, average cost:29.62365655640979\n",
      "epoch:1480, average cost:29.31325599252362\n",
      "epoch:1490, average cost:29.587019246614354\n",
      "epoch:1500, average cost:29.567712155827778\n",
      "epoch:1510, average cost:32.12165541282602\n",
      "epoch:1520, average cost:29.951275874011774\n",
      "epoch:1530, average cost:29.238652797432966\n",
      "epoch:1540, average cost:32.727384364971165\n",
      "epoch:1550, average cost:29.348106365782545\n",
      "epoch:1560, average cost:29.566704634124495\n",
      "epoch:1570, average cost:29.388669431181455\n",
      "epoch:1580, average cost:30.11162015750588\n",
      "epoch:1590, average cost:31.54912764245473\n",
      "epoch:1600, average cost:30.13456573325889\n",
      "epoch:1610, average cost:29.4858102899904\n",
      "epoch:1620, average cost:29.694905384079423\n",
      "epoch:1630, average cost:31.528930499852816\n",
      "epoch:1640, average cost:29.99527370281395\n",
      "epoch:1650, average cost:29.30145703287716\n",
      "epoch:1660, average cost:29.591604847610906\n",
      "epoch:1670, average cost:29.13500791173306\n",
      "epoch:1680, average cost:29.924421299748154\n",
      "epoch:1690, average cost:29.834824081786742\n",
      "epoch:1700, average cost:29.18559299066901\n",
      "epoch:1710, average cost:29.423256050316066\n",
      "epoch:1720, average cost:29.834168973025644\n",
      "epoch:1730, average cost:33.4690077234526\n",
      "epoch:1740, average cost:30.0047033807841\n",
      "epoch:1750, average cost:29.180492135510423\n",
      "epoch:1760, average cost:29.18962643769965\n",
      "epoch:1770, average cost:29.180064576846206\n",
      "epoch:1780, average cost:29.18872815369619\n",
      "epoch:1790, average cost:30.69921017088309\n",
      "epoch:1800, average cost:29.259241399903864\n",
      "epoch:1810, average cost:29.4828307015233\n",
      "epoch:1820, average cost:29.186846427776555\n",
      "epoch:1830, average cost:29.633450128922625\n",
      "epoch:1840, average cost:29.662930420944537\n",
      "epoch:1850, average cost:29.674708932953923\n",
      "epoch:1860, average cost:29.870650062529094\n",
      "epoch:1870, average cost:29.609128147744833\n",
      "epoch:1880, average cost:33.329474046924076\n",
      "epoch:1890, average cost:29.229610666599566\n",
      "epoch:1900, average cost:29.330199821501484\n",
      "epoch:1910, average cost:29.207313645061614\n",
      "epoch:1920, average cost:29.296883768027403\n",
      "epoch:1930, average cost:29.19222181533548\n",
      "epoch:1940, average cost:29.615140645184184\n",
      "epoch:1950, average cost:29.517364514588316\n",
      "epoch:1960, average cost:29.285489869970476\n",
      "epoch:1970, average cost:29.1939290564274\n",
      "epoch:1980, average cost:29.194042779392692\n",
      "epoch:1990, average cost:29.192699647610407\n"
     ]
    }
   ],
   "source": [
    "m=1\n",
    "H=1\n",
    "max_epoch=1500\n",
    "gamma=0.95\n",
    "#K=np.array([3.1623 ,  6.8378 , -67.8026 , -19.0559] ).reshape(1,4)\n",
    "K=np.array([0.1, 0.1,-1,-1]).reshape(1,4)\n",
    "g=3\n",
    "local_gs=[g for i in range(m)]\n",
    "np.random.seed(0)\n",
    "#x_track=[np.array([10,0,0,0]) for i in range(m)]\n",
    "x_track=[np.array([1,0,0,0]) for i in range(m)]\n",
    "x_00=np.array([0,0,np.random.normal()* np.pi*0.05,0])\n",
    "#x_00=np.array([0,0,0,0])\n",
    "x_0=[x_00 for i in range(m)]\n",
    "best_gs=[]\n",
    "\n",
    "\n",
    "K_global=K\n",
    "#K_global=np.array([-3.7036208 ,  8.76492109, 17.30110446, 30.86955573])\n",
    "lr=0.0005\n",
    "J_K_0=[Cost(Q,R,K_global,local_gs[i],x_track[i],state_0=x_0[i],gamma=gamma) for i in range(m)]\n",
    "for i in range(m):\n",
    "    print(f\"Agent{i}: {J_K_0[i]}\")\n",
    "cost1=[]\n",
    "#np.random.seed(int(time()))\n",
    "for epoch in range(max_epoch):\n",
    "    local_Ks=[]\n",
    "    for i in range(m):\n",
    "        K_local=K_global\n",
    "        \n",
    "        for t in range(H):\n",
    "            z_K,z_g=gr_2(Q,R,K_local,local_gs[i],x_=x_track[i],x_0=x_0[i],gamma=gamma)\n",
    "            #print(z_K,z_g)\n",
    "            K_local=K_local-lr*z_K\n",
    "            local_gs[i]=local_gs[i]-lr*z_g/m\n",
    "        local_Ks.append(np.array(K_local))\n",
    "    #print(np.stack(local_Ks).shape)\n",
    "    K_global=np.mean(np.stack(local_Ks),axis=0)\n",
    "    #print(K_global)\n",
    "    #print(local_gs[0])\n",
    "    mean_cost=np.sum([Cost(Q,R,K_global,local_gs[i],x_track[i],state_0=x_0[i],gamma=gamma) for i in range(m)])/m\n",
    "    if epoch%10==0:\n",
    "        print(f\"epoch:{epoch}, average cost:{mean_cost}\")\n",
    "    cost1.append(mean_cost)"
   ]
  },
  {
   "cell_type": "code",
   "execution_count": 17,
   "metadata": {},
   "outputs": [
    {
     "name": "stderr",
     "output_type": "stream",
     "text": [
      "C:\\Users\\zhong\\Anaconda3\\lib\\site-packages\\ipykernel_launcher.py:16: DeprecationWarning: np.asscalar(a) is deprecated since NumPy v1.16, use a.item() instead\n",
      "  app.launch_new_instance()\n"
     ]
    },
    {
     "name": "stdout",
     "output_type": "stream",
     "text": [
      "Agent0: [[189.47110142]]\n",
      "Agent1: [[187.59330725]]\n",
      "Agent2: [[186.66551288]]\n",
      "Agent3: [[186.68771832]]\n",
      "Agent4: [[187.65992355]]\n",
      "epoch:0, average cost:1305.2287146355952\n",
      "epoch:100, average cost:36.82976702849053\n",
      "epoch:200, average cost:32.210305958136814\n",
      "epoch:300, average cost:30.565012835917873\n",
      "epoch:400, average cost:30.034461746365686\n",
      "epoch:500, average cost:29.796651060338927\n",
      "epoch:600, average cost:29.693376609789322\n",
      "epoch:700, average cost:29.64269061742085\n",
      "epoch:800, average cost:29.620725838363523\n",
      "epoch:900, average cost:29.60855792306136\n",
      "epoch:1000, average cost:29.600062503463\n",
      "epoch:1100, average cost:29.59448164409834\n",
      "epoch:1200, average cost:29.590190614198445\n",
      "epoch:1300, average cost:29.5867769876899\n",
      "epoch:1400, average cost:29.583506876079458\n",
      "Agent0: [[189.47110142]]\n",
      "Agent1: [[187.59330725]]\n",
      "Agent2: [[186.66551288]]\n",
      "Agent3: [[186.68771832]]\n",
      "Agent4: [[187.65992355]]\n",
      "epoch:0, average cost:1771.2080266957578\n",
      "epoch:100, average cost:32.16183194199942\n",
      "epoch:200, average cost:30.268251365644026\n",
      "epoch:300, average cost:29.76149950690002\n",
      "epoch:400, average cost:29.627197883167668\n",
      "epoch:500, average cost:29.584837536487402\n",
      "epoch:600, average cost:29.564610563057027\n",
      "epoch:700, average cost:29.552332088422997\n",
      "epoch:800, average cost:29.543897068101778\n",
      "epoch:900, average cost:29.538158421633153\n",
      "epoch:1000, average cost:29.533541891996755\n",
      "epoch:1100, average cost:29.52971905913779\n",
      "epoch:1200, average cost:29.52621001772884\n",
      "epoch:1300, average cost:29.52298178970682\n",
      "epoch:1400, average cost:29.519669251041456\n"
     ]
    }
   ],
   "source": [
    "from time import time\n",
    "m=5\n",
    "H=1\n",
    "max_epoch=1500\n",
    "gamma=0.95\n",
    "\n",
    "#costs=[cost]\n",
    "for run in range(2):\n",
    "    \n",
    "    K=np.array([0.1, 0.1,-1,-1]).reshape(1,4)\n",
    "    g=3\n",
    "    local_gs=[g for i in range(m)]\n",
    "    np.random.seed(0)\n",
    "    #x_track=[np.array([10,0,0,0]) for i in range(m)]\n",
    "    x_track=[np.array([(-2+i)*0.5,0,0,0]) for i in range(m)]\n",
    "    x_00=np.array([0,0,np.random.normal()* np.pi*0.05,0])\n",
    "    #x_00=np.array([0,0,0,0])\n",
    "    x_0=[x_00 for i in range(m)]\n",
    "    best_gs=[]\n",
    "    \n",
    "    \n",
    "    K_global=K\n",
    "    #K_global=np.array([-3.7036208 ,  8.76492109, 17.30110446, 30.86955573])\n",
    "    lr=0.05\n",
    "    J_K_0=[Cost(Q,R,K_global,local_gs[i],x_track[i],state_0=x_0[i],gamma=gamma) for i in range(m)]\n",
    "    for i in range(m):\n",
    "        print(f\"Agent{i}: {J_K_0[i]}\")\n",
    "    cost=[]\n",
    "    np.random.seed(int(time()))\n",
    "    for epoch in range(max_epoch):\n",
    "        local_Ks=[]\n",
    "        for i in range(m):\n",
    "            K_local=K_global\n",
    "            \n",
    "            for t in range(H):\n",
    "                z_K,z_g=gr_2(Q,R,K_local,local_gs[i],x_=x_track[i],x_0=x_0[i],gamma=gamma)\n",
    "                #print(z_K,z_g)\n",
    "                K_local=K_local-lr*z_K\n",
    "                local_gs[i]=local_gs[i]-lr*z_g/m\n",
    "            local_Ks.append(np.array(K_local))\n",
    "        #print(np.stack(local_Ks).shape)\n",
    "        K_global=np.mean(np.stack(local_Ks),axis=0)\n",
    "        #print(K_global)\n",
    "        #print(local_gs[0])\n",
    "        mean_cost=np.sum([Cost(Q,R,K_global,local_gs[i],x_track[i],state_0=x_0[i],gamma=gamma) for i in range(m)])/m\n",
    "        if epoch%100==0:\n",
    "            print(f\"epoch:{epoch}, average cost:{mean_cost}\")\n",
    "        cost.append(mean_cost)\n",
    "    costs.append(cost)\n"
   ]
  },
  {
   "cell_type": "code",
   "execution_count": 19,
   "metadata": {},
   "outputs": [],
   "source": [
    "costs=costs[1:]"
   ]
  },
  {
   "cell_type": "code",
   "execution_count": 21,
   "metadata": {},
   "outputs": [],
   "source": [
    "np.save(\"fed_costs\",costs)"
   ]
  },
  {
   "cell_type": "code",
   "execution_count": 69,
   "metadata": {},
   "outputs": [],
   "source": [
    "cost_ind=cost1"
   ]
  },
  {
   "cell_type": "code",
   "execution_count": 74,
   "metadata": {},
   "outputs": [
    {
     "data": {
      "image/png": "[encoded data removed]",
      "text/plain": [
       "<Figure size 432x288 with 1 Axes>"
      ]
     },
     "metadata": {
      "needs_background": "light"
     },
     "output_type": "display_data"
    },
    {
     "data": {
      "text/plain": [
       "<Figure size 432x288 with 0 Axes>"
      ]
     },
     "metadata": {},
     "output_type": "display_data"
    }
   ],
   "source": [
    "from matplotlib import rc\n",
    "rc('text', usetex=False)\n",
    "plt.figure(figsize=(6,4))\n",
    "\n",
    "plt.plot(np.arange(2000),cost_fed[:2000],\"-\",label=\"Federated H=1, m=4\",linewidth=2)\n",
    "plt.plot(np.arange(2000),cost_ind[:2000],\"-\",label=\"Independent\",linewidth=2)\n",
    "\n",
    "\n",
    "\n",
    "#plt.xscale('log')\n",
    "plt.yscale('log')\n",
    "#plt.xlim(0,1050)\n",
    "plt.legend(loc=1,prop={'size':12})\n",
    "\n",
    "plt.rc('xtick', labelsize=16)    # fontsize of the tick labels\n",
    "plt.rc('ytick', labelsize=16) \n",
    "plt.ylabel(\"Cost\",fontsize=20)\n",
    "plt.xlabel(\"Number of Iterations, $T$\",fontsize=20)\n",
    "plt.grid(linestyle='--')\n",
    "plt.show()\n",
    "plt.savefig('nolinear.eps', format='eps')"
   ]
  },
  {
   "cell_type": "code",
   "execution_count": 66,
   "metadata": {},
   "outputs": [
    {
     "name": "stderr",
     "output_type": "stream",
     "text": [
      "C:\\Users\\zhong\\Anaconda3\\lib\\site-packages\\ipykernel_launcher.py:16: DeprecationWarning: np.asscalar(a) is deprecated since NumPy v1.16, use a.item() instead\n",
      "  app.launch_new_instance()\n"
     ]
    },
    {
     "name": "stdout",
     "output_type": "stream",
     "text": [
      "Agent0: [[7629.77244987]]\n",
      "Agent1: [[7633.4071573]]\n",
      "Agent2: [[7654.18906718]]\n",
      "Agent3: [[7692.11817949]]\n",
      "Agent4: [[7747.19449424]]\n",
      "epoch:0, average cost:21448.059821474824\n",
      "epoch:100, average cost:386.7784692186756\n",
      "epoch:200, average cost:329.18157405215396\n",
      "epoch:300, average cost:312.5136638059992\n",
      "epoch:400, average cost:305.5722258722964\n",
      "epoch:500, average cost:301.6117183216791\n",
      "epoch:600, average cost:299.0327129988624\n",
      "epoch:700, average cost:296.71899171302704\n",
      "epoch:800, average cost:294.9865559686293\n",
      "epoch:900, average cost:293.4917447273924\n",
      "epoch:1000, average cost:292.2468198216226\n",
      "epoch:1100, average cost:291.38054813773795\n",
      "epoch:1200, average cost:290.4557268694403\n",
      "epoch:1300, average cost:289.7162620870672\n",
      "epoch:1400, average cost:289.0174854206062\n",
      "epoch:1500, average cost:288.3721518810252\n",
      "epoch:1600, average cost:287.8145444273707\n",
      "epoch:1700, average cost:287.31297439042464\n",
      "epoch:1800, average cost:286.8899139288184\n",
      "epoch:1900, average cost:286.4472192351046\n",
      "epoch:2000, average cost:285.99093789487534\n",
      "epoch:2100, average cost:285.53918391440607\n",
      "epoch:2200, average cost:285.10143715010196\n",
      "epoch:2300, average cost:284.7096735947145\n",
      "epoch:2400, average cost:284.29755934992585\n",
      "epoch:2500, average cost:283.93653151884877\n",
      "epoch:2600, average cost:283.6070121650677\n",
      "epoch:2700, average cost:283.28237373451003\n",
      "epoch:2800, average cost:283.0235156656121\n",
      "epoch:2900, average cost:282.6887853522433\n",
      "epoch:3000, average cost:282.3854980826901\n",
      "epoch:3100, average cost:282.08672221658105\n",
      "epoch:3200, average cost:281.80276901517425\n",
      "epoch:3300, average cost:281.5226451040133\n",
      "epoch:3400, average cost:281.26698096954067\n",
      "epoch:3500, average cost:280.9995768300491\n",
      "epoch:3600, average cost:280.7790828823527\n",
      "epoch:3700, average cost:280.50869867014393\n",
      "epoch:3800, average cost:280.26094086632435\n",
      "epoch:3900, average cost:280.0315439398731\n",
      "epoch:4000, average cost:279.800896858627\n",
      "epoch:4100, average cost:279.61866700375924\n",
      "epoch:4200, average cost:279.4096809404047\n",
      "epoch:4300, average cost:279.1763556103526\n",
      "epoch:4400, average cost:278.94703891387235\n",
      "epoch:4500, average cost:278.725930573552\n",
      "epoch:4600, average cost:278.5437417633357\n",
      "epoch:4700, average cost:278.36926611229114\n",
      "epoch:4800, average cost:278.1810135981869\n",
      "epoch:4900, average cost:278.0067416436881\n",
      "epoch:5000, average cost:277.845771675366\n",
      "epoch:5100, average cost:277.65820824230394\n",
      "epoch:5200, average cost:277.4922077140428\n",
      "epoch:5300, average cost:277.3321271848881\n",
      "epoch:5400, average cost:277.19283315558795\n",
      "epoch:5500, average cost:277.0266843153398\n",
      "epoch:5600, average cost:276.9007412494681\n",
      "epoch:5700, average cost:276.7546568341227\n",
      "epoch:5800, average cost:276.604466355676\n",
      "epoch:5900, average cost:276.48351787830927\n",
      "epoch:6000, average cost:276.3548230346147\n",
      "epoch:6100, average cost:276.2338983600088\n",
      "epoch:6200, average cost:276.1008122613781\n",
      "epoch:6300, average cost:275.9746539568713\n",
      "epoch:6400, average cost:275.85878551149557\n",
      "epoch:6500, average cost:275.7504240554953\n",
      "epoch:6600, average cost:275.6211070310802\n",
      "epoch:6700, average cost:275.5011823794139\n",
      "epoch:6800, average cost:275.3909569464646\n",
      "epoch:6900, average cost:275.2753399977378\n",
      "epoch:7000, average cost:275.16378177670083\n",
      "epoch:7100, average cost:275.03597759614274\n",
      "epoch:7200, average cost:274.91707877425483\n",
      "epoch:7300, average cost:274.8052623757693\n",
      "epoch:7400, average cost:274.6988167646665\n",
      "epoch:7500, average cost:274.58222413871414\n",
      "epoch:7600, average cost:274.4841162162696\n",
      "epoch:7700, average cost:274.3910911513362\n",
      "epoch:7800, average cost:274.29454530153225\n",
      "epoch:7900, average cost:274.20608022262024\n",
      "epoch:8000, average cost:274.1235015864298\n",
      "epoch:8100, average cost:274.03675840592075\n",
      "epoch:8200, average cost:273.950404649838\n",
      "epoch:8300, average cost:273.8637004574239\n",
      "epoch:8400, average cost:273.79248090798626\n",
      "epoch:8500, average cost:273.7199329295657\n",
      "epoch:8600, average cost:273.63552824396737\n",
      "epoch:8700, average cost:273.56152355722526\n"
     ]
    },
    {
     "ename": "KeyboardInterrupt",
     "evalue": "",
     "output_type": "error",
     "traceback": [
      "\u001b[1;31m---------------------------------------------------------------------------\u001b[0m",
      "\u001b[1;31mKeyboardInterrupt\u001b[0m                         Traceback (most recent call last)",
      "\u001b[1;32m<ipython-input-66-79d265a9f92f>\u001b[0m in \u001b[0;36m<module>\u001b[1;34m\u001b[0m\n\u001b[0;32m     29\u001b[0m \u001b[1;33m\u001b[0m\u001b[0m\n\u001b[0;32m     30\u001b[0m         \u001b[1;32mfor\u001b[0m \u001b[0mt\u001b[0m \u001b[1;32min\u001b[0m \u001b[0mrange\u001b[0m\u001b[1;33m(\u001b[0m\u001b[0mH\u001b[0m\u001b[1;33m)\u001b[0m\u001b[1;33m:\u001b[0m\u001b[1;33m\u001b[0m\u001b[1;33m\u001b[0m\u001b[0m\n\u001b[1;32m---> 31\u001b[1;33m             \u001b[0mz_K\u001b[0m\u001b[1;33m,\u001b[0m\u001b[0mz_g\u001b[0m\u001b[1;33m=\u001b[0m\u001b[0mgr_2\u001b[0m\u001b[1;33m(\u001b[0m\u001b[0mQ\u001b[0m\u001b[1;33m,\u001b[0m\u001b[0mR\u001b[0m\u001b[1;33m,\u001b[0m\u001b[0mK_local\u001b[0m\u001b[1;33m,\u001b[0m\u001b[0mlocal_gs\u001b[0m\u001b[1;33m[\u001b[0m\u001b[0mi\u001b[0m\u001b[1;33m]\u001b[0m\u001b[1;33m,\u001b[0m\u001b[0mx_\u001b[0m\u001b[1;33m=\u001b[0m\u001b[0mx_track\u001b[0m\u001b[1;33m[\u001b[0m\u001b[0mi\u001b[0m\u001b[1;33m]\u001b[0m\u001b[1;33m,\u001b[0m\u001b[0mx_0\u001b[0m\u001b[1;33m=\u001b[0m\u001b[0mx_0\u001b[0m\u001b[1;33m[\u001b[0m\u001b[0mi\u001b[0m\u001b[1;33m]\u001b[0m\u001b[1;33m,\u001b[0m\u001b[0mgamma\u001b[0m\u001b[1;33m=\u001b[0m\u001b[0mgamma\u001b[0m\u001b[1;33m)\u001b[0m\u001b[1;33m\u001b[0m\u001b[1;33m\u001b[0m\u001b[0m\n\u001b[0m\u001b[0;32m     32\u001b[0m             \u001b[1;31m#print(z_K,z_g)\u001b[0m\u001b[1;33m\u001b[0m\u001b[1;33m\u001b[0m\u001b[1;33m\u001b[0m\u001b[0m\n\u001b[0;32m     33\u001b[0m             \u001b[0mK_local\u001b[0m\u001b[1;33m=\u001b[0m\u001b[0mK_local\u001b[0m\u001b[1;33m-\u001b[0m\u001b[0mlr\u001b[0m\u001b[1;33m*\u001b[0m\u001b[0mz_K\u001b[0m\u001b[1;33m\u001b[0m\u001b[1;33m\u001b[0m\u001b[0m\n",
      "\u001b[1;32m<ipython-input-47-7ab93b007e7d>\u001b[0m in \u001b[0;36mgr_2\u001b[1;34m(Q, R, K, g, x_, x_0, gamma)\u001b[0m\n\u001b[0;32m     27\u001b[0m     \u001b[1;31m#print(K,r*u_K)\u001b[0m\u001b[1;33m\u001b[0m\u001b[1;33m\u001b[0m\u001b[1;33m\u001b[0m\u001b[0m\n\u001b[0;32m     28\u001b[0m     \u001b[1;31m#print(g+r*u_g)\u001b[0m\u001b[1;33m\u001b[0m\u001b[1;33m\u001b[0m\u001b[1;33m\u001b[0m\u001b[0m\n\u001b[1;32m---> 29\u001b[1;33m     \u001b[0mcost1\u001b[0m\u001b[1;33m=\u001b[0m\u001b[0mCost\u001b[0m\u001b[1;33m(\u001b[0m\u001b[0mQ\u001b[0m\u001b[1;33m,\u001b[0m\u001b[0mR\u001b[0m\u001b[1;33m,\u001b[0m\u001b[0mK\u001b[0m\u001b[1;33m+\u001b[0m\u001b[0mr\u001b[0m\u001b[1;33m*\u001b[0m\u001b[0mu_K\u001b[0m\u001b[1;33m,\u001b[0m\u001b[0mg\u001b[0m\u001b[1;33m+\u001b[0m\u001b[0mr\u001b[0m\u001b[1;33m*\u001b[0m\u001b[0mu_g\u001b[0m\u001b[1;33m,\u001b[0m\u001b[0mx_\u001b[0m\u001b[1;33m,\u001b[0m\u001b[0mx_0\u001b[0m\u001b[1;33m,\u001b[0m\u001b[0mgamma\u001b[0m\u001b[1;33m=\u001b[0m\u001b[0mgamma\u001b[0m\u001b[1;33m)\u001b[0m\u001b[1;33m\u001b[0m\u001b[1;33m\u001b[0m\u001b[0m\n\u001b[0m\u001b[0;32m     30\u001b[0m     \u001b[0mcost2\u001b[0m\u001b[1;33m=\u001b[0m\u001b[0mCost\u001b[0m\u001b[1;33m(\u001b[0m\u001b[0mQ\u001b[0m\u001b[1;33m,\u001b[0m\u001b[0mR\u001b[0m\u001b[1;33m,\u001b[0m\u001b[0mK\u001b[0m\u001b[1;33m-\u001b[0m\u001b[0mr\u001b[0m\u001b[1;33m*\u001b[0m\u001b[0mu_K\u001b[0m\u001b[1;33m,\u001b[0m\u001b[0mg\u001b[0m\u001b[1;33m-\u001b[0m\u001b[0mr\u001b[0m\u001b[1;33m*\u001b[0m\u001b[0mu_g\u001b[0m\u001b[1;33m,\u001b[0m\u001b[0mx_\u001b[0m\u001b[1;33m,\u001b[0m\u001b[0mx_0\u001b[0m\u001b[1;33m,\u001b[0m\u001b[0mgamma\u001b[0m\u001b[1;33m=\u001b[0m\u001b[0mgamma\u001b[0m\u001b[1;33m)\u001b[0m\u001b[1;33m\u001b[0m\u001b[1;33m\u001b[0m\u001b[0m\n\u001b[0;32m     31\u001b[0m     \u001b[0mret\u001b[0m\u001b[1;33m=\u001b[0m\u001b[0md\u001b[0m\u001b[1;33m/\u001b[0m\u001b[1;33m(\u001b[0m\u001b[1;36m2\u001b[0m\u001b[1;33m*\u001b[0m\u001b[0mr\u001b[0m\u001b[1;33m)\u001b[0m\u001b[1;33m*\u001b[0m\u001b[1;33m(\u001b[0m\u001b[0mcost1\u001b[0m\u001b[1;33m-\u001b[0m\u001b[0mcost2\u001b[0m\u001b[1;33m)\u001b[0m\u001b[1;33m\u001b[0m\u001b[1;33m\u001b[0m\u001b[0m\n",
      "\u001b[1;32m<ipython-input-46-e853ef3363fc>\u001b[0m in \u001b[0;36mCost\u001b[1;34m(Q, R, K, g, state_track, state_0, gamma, show)\u001b[0m\n\u001b[0;32m     16\u001b[0m         \u001b[0mu\u001b[0m\u001b[1;33m=\u001b[0m\u001b[0mnp\u001b[0m\u001b[1;33m.\u001b[0m\u001b[0masscalar\u001b[0m\u001b[1;33m(\u001b[0m\u001b[0mu\u001b[0m\u001b[1;33m)\u001b[0m\u001b[1;33m\u001b[0m\u001b[1;33m\u001b[0m\u001b[0m\n\u001b[0;32m     17\u001b[0m         \u001b[0mu\u001b[0m\u001b[1;33m=\u001b[0m\u001b[0mnp\u001b[0m\u001b[1;33m.\u001b[0m\u001b[0mclip\u001b[0m\u001b[1;33m(\u001b[0m\u001b[0mu\u001b[0m\u001b[1;33m,\u001b[0m\u001b[1;33m-\u001b[0m\u001b[0mf_max\u001b[0m\u001b[1;33m,\u001b[0m\u001b[0mf_max\u001b[0m\u001b[1;33m)\u001b[0m\u001b[1;33m\u001b[0m\u001b[1;33m\u001b[0m\u001b[0m\n\u001b[1;32m---> 18\u001b[1;33m         \u001b[0mstate\u001b[0m\u001b[1;33m,\u001b[0m \u001b[0mreward\u001b[0m\u001b[1;33m,\u001b[0m \u001b[0mdone\u001b[0m\u001b[1;33m,\u001b[0m \u001b[0m_\u001b[0m \u001b[1;33m=\u001b[0m \u001b[0menv\u001b[0m\u001b[1;33m.\u001b[0m\u001b[0mstep\u001b[0m\u001b[1;33m(\u001b[0m\u001b[1;33m[\u001b[0m\u001b[0mu\u001b[0m\u001b[1;33m]\u001b[0m\u001b[1;33m)\u001b[0m\u001b[1;33m\u001b[0m\u001b[1;33m\u001b[0m\u001b[0m\n\u001b[0m\u001b[0;32m     19\u001b[0m         \u001b[0mcost\u001b[0m\u001b[1;33m+=\u001b[0m\u001b[1;33m-\u001b[0m\u001b[0mreward\u001b[0m\u001b[1;33m\u001b[0m\u001b[1;33m\u001b[0m\u001b[0m\n\u001b[0;32m     20\u001b[0m         \u001b[1;32mif\u001b[0m \u001b[0mdone\u001b[0m\u001b[1;33m:\u001b[0m\u001b[1;33m\u001b[0m\u001b[1;33m\u001b[0m\u001b[0m\n",
      "\u001b[1;32mC:\\zax\\course\\AM232\\project\\env\\cartpole_LQR.py\u001b[0m in \u001b[0;36m_step\u001b[1;34m(self, action)\u001b[0m\n\u001b[0;32m     84\u001b[0m         \u001b[0mself\u001b[0m\u001b[1;33m.\u001b[0m\u001b[0mdiscount\u001b[0m\u001b[1;33m*=\u001b[0m\u001b[0mself\u001b[0m\u001b[1;33m.\u001b[0m\u001b[0mgamma\u001b[0m\u001b[1;33m\u001b[0m\u001b[1;33m\u001b[0m\u001b[0m\n\u001b[0;32m     85\u001b[0m         \u001b[0mu\u001b[0m\u001b[1;33m=\u001b[0m\u001b[0maction\u001b[0m\u001b[1;33m[\u001b[0m\u001b[1;36m0\u001b[0m\u001b[1;33m]\u001b[0m\u001b[1;33m\u001b[0m\u001b[1;33m\u001b[0m\u001b[0m\n\u001b[1;32m---> 86\u001b[1;33m         \u001b[0mcost\u001b[0m\u001b[1;33m=\u001b[0m\u001b[0mself\u001b[0m\u001b[1;33m.\u001b[0m\u001b[0mR\u001b[0m\u001b[1;33m*\u001b[0m\u001b[0mu\u001b[0m\u001b[1;33m**\u001b[0m\u001b[1;36m2\u001b[0m\u001b[1;33m+\u001b[0m\u001b[0mdiff\u001b[0m\u001b[1;33m.\u001b[0m\u001b[0mT\u001b[0m\u001b[1;33m.\u001b[0m\u001b[0mdot\u001b[0m\u001b[1;33m(\u001b[0m\u001b[0mself\u001b[0m\u001b[1;33m.\u001b[0m\u001b[0mQ\u001b[0m\u001b[1;33m)\u001b[0m\u001b[1;33m.\u001b[0m\u001b[0mdot\u001b[0m\u001b[1;33m(\u001b[0m\u001b[0mdiff\u001b[0m\u001b[1;33m)\u001b[0m\u001b[1;33m\u001b[0m\u001b[1;33m\u001b[0m\u001b[0m\n\u001b[0m\u001b[0;32m     87\u001b[0m         \u001b[0mcost\u001b[0m\u001b[1;33m*=\u001b[0m\u001b[0mself\u001b[0m\u001b[1;33m.\u001b[0m\u001b[0mdiscount\u001b[0m\u001b[1;33m\u001b[0m\u001b[1;33m\u001b[0m\u001b[0m\n\u001b[0;32m     88\u001b[0m \u001b[1;33m\u001b[0m\u001b[0m\n",
      "\u001b[1;31mKeyboardInterrupt\u001b[0m: "
     ]
    }
   ],
   "source": [
    "m=5\n",
    "H=1\n",
    "max_epoch=100000\n",
    "gamma=0.99\n",
    "#K=np.array([3.1623 ,  6.8378 , -67.8026 , -19.0559] ).reshape(1,4)\n",
    "K=np.array([0.1, 0.1,-1,-1]).reshape(1,4)\n",
    "g=0\n",
    "local_gs=[np.ones(1)*3 for i in range(m)]\n",
    "np.random.seed(0)\n",
    "x_track=[np.array([-2+1*i,0,0,0]) for i in range(m)]\n",
    "x_00=np.array([0,0,np.random.normal()* np.pi*0.1,0])\n",
    "#x_00=np.array([0,0,0,0])\n",
    "x_0=[x_00 for i in range(m)]\n",
    "best_gs=[]\n",
    "\n",
    "\n",
    "#K_global=K\n",
    "K_global=np.array([-4.68299821, -3.28195466, 10.14700093, 18.32834617])\n",
    "lr=0.0005\n",
    "J_K_0=[Cost(Q,R,K,local_gs[i],x_track[i],state_0=x_0[i],gamma=gamma) for i in range(m)]\n",
    "for i in range(m):\n",
    "    print(f\"Agent{i}: {J_K_0[i]}\")\n",
    "cost1=[]\n",
    "#np.random.seed(int(time()))\n",
    "for epoch in range(max_epoch):\n",
    "    local_Ks=[]\n",
    "    for i in range(m):\n",
    "        K_local=K_global\n",
    "        \n",
    "        for t in range(H):\n",
    "            z_K,z_g=gr_2(Q,R,K_local,local_gs[i],x_=x_track[i],x_0=x_0[i],gamma=gamma)\n",
    "            #print(z_K,z_g)\n",
    "            K_local=K_local-lr*z_K\n",
    "            local_gs[i]=local_gs[i]-lr*z_g/m\n",
    "        local_Ks.append(np.array(K_local))\n",
    "    #print(np.stack(local_Ks).shape)\n",
    "    K_global=np.mean(np.stack(local_Ks),axis=0)\n",
    "    #print(K_global)\n",
    "    #print(local_gs[0])\n",
    "    mean_cost=np.sum([Cost(Q,R,K_global,local_gs[i],x_track[i],state_0=x_0[i],gamma=gamma) for i in range(m)])/m\n",
    "    if epoch%100==0:\n",
    "        print(f\"epoch:{epoch}, average cost:{mean_cost}\")\n",
    "    cost1.append(mean_cost)"
   ]
  },
  {
   "cell_type": "code",
   "execution_count": 52,
   "metadata": {},
   "outputs": [
    {
     "name": "stderr",
     "output_type": "stream",
     "text": [
      "C:\\Users\\zhong\\Anaconda3\\lib\\site-packages\\ipykernel_launcher.py:16: DeprecationWarning: np.asscalar(a) is deprecated since NumPy v1.16, use a.item() instead\n",
      "  app.launch_new_instance()\n"
     ]
    },
    {
     "name": "stdout",
     "output_type": "stream",
     "text": [
      "epoch:0, average cost:766641.3312304638\n",
      "epoch:100, average cost:13687529.908560198\n"
     ]
    },
    {
     "ename": "KeyboardInterrupt",
     "evalue": "",
     "output_type": "error",
     "traceback": [
      "\u001b[1;31m---------------------------------------------------------------------------\u001b[0m",
      "\u001b[1;31mKeyboardInterrupt\u001b[0m                         Traceback (most recent call last)",
      "\u001b[1;32m<ipython-input-52-f0dc08858378>\u001b[0m in \u001b[0;36m<module>\u001b[1;34m\u001b[0m\n\u001b[0;32m     16\u001b[0m     \u001b[1;31m#print(K_global)\u001b[0m\u001b[1;33m\u001b[0m\u001b[1;33m\u001b[0m\u001b[1;33m\u001b[0m\u001b[0m\n\u001b[0;32m     17\u001b[0m     \u001b[1;31m#print(local_gs[0])\u001b[0m\u001b[1;33m\u001b[0m\u001b[1;33m\u001b[0m\u001b[1;33m\u001b[0m\u001b[0m\n\u001b[1;32m---> 18\u001b[1;33m     \u001b[0mmean_cost\u001b[0m\u001b[1;33m=\u001b[0m\u001b[0mnp\u001b[0m\u001b[1;33m.\u001b[0m\u001b[0msum\u001b[0m\u001b[1;33m(\u001b[0m\u001b[1;33m[\u001b[0m\u001b[0mCost\u001b[0m\u001b[1;33m(\u001b[0m\u001b[0mQ\u001b[0m\u001b[1;33m,\u001b[0m\u001b[0mR\u001b[0m\u001b[1;33m,\u001b[0m\u001b[0mK_global\u001b[0m\u001b[1;33m,\u001b[0m\u001b[0mlocal_gs\u001b[0m\u001b[1;33m[\u001b[0m\u001b[0mi\u001b[0m\u001b[1;33m]\u001b[0m\u001b[1;33m,\u001b[0m\u001b[0mx_track\u001b[0m\u001b[1;33m[\u001b[0m\u001b[0mi\u001b[0m\u001b[1;33m]\u001b[0m\u001b[1;33m,\u001b[0m\u001b[0mstate_0\u001b[0m\u001b[1;33m=\u001b[0m\u001b[0mx_0\u001b[0m\u001b[1;33m[\u001b[0m\u001b[0mi\u001b[0m\u001b[1;33m]\u001b[0m\u001b[1;33m,\u001b[0m\u001b[0mgamma\u001b[0m\u001b[1;33m=\u001b[0m\u001b[0mgamma\u001b[0m\u001b[1;33m)\u001b[0m \u001b[1;32mfor\u001b[0m \u001b[0mi\u001b[0m \u001b[1;32min\u001b[0m \u001b[0mrange\u001b[0m\u001b[1;33m(\u001b[0m\u001b[0mm\u001b[0m\u001b[1;33m)\u001b[0m\u001b[1;33m]\u001b[0m\u001b[1;33m)\u001b[0m\u001b[1;33m/\u001b[0m\u001b[0mm\u001b[0m\u001b[1;33m\u001b[0m\u001b[1;33m\u001b[0m\u001b[0m\n\u001b[0m\u001b[0;32m     19\u001b[0m     \u001b[1;32mif\u001b[0m \u001b[0mepoch\u001b[0m\u001b[1;33m%\u001b[0m\u001b[1;36m100\u001b[0m\u001b[1;33m==\u001b[0m\u001b[1;36m0\u001b[0m\u001b[1;33m:\u001b[0m\u001b[1;33m\u001b[0m\u001b[1;33m\u001b[0m\u001b[0m\n\u001b[0;32m     20\u001b[0m         \u001b[0mprint\u001b[0m\u001b[1;33m(\u001b[0m\u001b[1;34mf\"epoch:{epoch}, average cost:{mean_cost}\"\u001b[0m\u001b[1;33m)\u001b[0m\u001b[1;33m\u001b[0m\u001b[1;33m\u001b[0m\u001b[0m\n",
      "\u001b[1;32m<ipython-input-52-f0dc08858378>\u001b[0m in \u001b[0;36m<listcomp>\u001b[1;34m(.0)\u001b[0m\n\u001b[0;32m     16\u001b[0m     \u001b[1;31m#print(K_global)\u001b[0m\u001b[1;33m\u001b[0m\u001b[1;33m\u001b[0m\u001b[1;33m\u001b[0m\u001b[0m\n\u001b[0;32m     17\u001b[0m     \u001b[1;31m#print(local_gs[0])\u001b[0m\u001b[1;33m\u001b[0m\u001b[1;33m\u001b[0m\u001b[1;33m\u001b[0m\u001b[0m\n\u001b[1;32m---> 18\u001b[1;33m     \u001b[0mmean_cost\u001b[0m\u001b[1;33m=\u001b[0m\u001b[0mnp\u001b[0m\u001b[1;33m.\u001b[0m\u001b[0msum\u001b[0m\u001b[1;33m(\u001b[0m\u001b[1;33m[\u001b[0m\u001b[0mCost\u001b[0m\u001b[1;33m(\u001b[0m\u001b[0mQ\u001b[0m\u001b[1;33m,\u001b[0m\u001b[0mR\u001b[0m\u001b[1;33m,\u001b[0m\u001b[0mK_global\u001b[0m\u001b[1;33m,\u001b[0m\u001b[0mlocal_gs\u001b[0m\u001b[1;33m[\u001b[0m\u001b[0mi\u001b[0m\u001b[1;33m]\u001b[0m\u001b[1;33m,\u001b[0m\u001b[0mx_track\u001b[0m\u001b[1;33m[\u001b[0m\u001b[0mi\u001b[0m\u001b[1;33m]\u001b[0m\u001b[1;33m,\u001b[0m\u001b[0mstate_0\u001b[0m\u001b[1;33m=\u001b[0m\u001b[0mx_0\u001b[0m\u001b[1;33m[\u001b[0m\u001b[0mi\u001b[0m\u001b[1;33m]\u001b[0m\u001b[1;33m,\u001b[0m\u001b[0mgamma\u001b[0m\u001b[1;33m=\u001b[0m\u001b[0mgamma\u001b[0m\u001b[1;33m)\u001b[0m \u001b[1;32mfor\u001b[0m \u001b[0mi\u001b[0m \u001b[1;32min\u001b[0m \u001b[0mrange\u001b[0m\u001b[1;33m(\u001b[0m\u001b[0mm\u001b[0m\u001b[1;33m)\u001b[0m\u001b[1;33m]\u001b[0m\u001b[1;33m)\u001b[0m\u001b[1;33m/\u001b[0m\u001b[0mm\u001b[0m\u001b[1;33m\u001b[0m\u001b[1;33m\u001b[0m\u001b[0m\n\u001b[0m\u001b[0;32m     19\u001b[0m     \u001b[1;32mif\u001b[0m \u001b[0mepoch\u001b[0m\u001b[1;33m%\u001b[0m\u001b[1;36m100\u001b[0m\u001b[1;33m==\u001b[0m\u001b[1;36m0\u001b[0m\u001b[1;33m:\u001b[0m\u001b[1;33m\u001b[0m\u001b[1;33m\u001b[0m\u001b[0m\n\u001b[0;32m     20\u001b[0m         \u001b[0mprint\u001b[0m\u001b[1;33m(\u001b[0m\u001b[1;34mf\"epoch:{epoch}, average cost:{mean_cost}\"\u001b[0m\u001b[1;33m)\u001b[0m\u001b[1;33m\u001b[0m\u001b[1;33m\u001b[0m\u001b[0m\n",
      "\u001b[1;32m<ipython-input-46-e853ef3363fc>\u001b[0m in \u001b[0;36mCost\u001b[1;34m(Q, R, K, g, state_track, state_0, gamma, show)\u001b[0m\n\u001b[0;32m     16\u001b[0m         \u001b[0mu\u001b[0m\u001b[1;33m=\u001b[0m\u001b[0mnp\u001b[0m\u001b[1;33m.\u001b[0m\u001b[0masscalar\u001b[0m\u001b[1;33m(\u001b[0m\u001b[0mu\u001b[0m\u001b[1;33m)\u001b[0m\u001b[1;33m\u001b[0m\u001b[1;33m\u001b[0m\u001b[0m\n\u001b[0;32m     17\u001b[0m         \u001b[0mu\u001b[0m\u001b[1;33m=\u001b[0m\u001b[0mnp\u001b[0m\u001b[1;33m.\u001b[0m\u001b[0mclip\u001b[0m\u001b[1;33m(\u001b[0m\u001b[0mu\u001b[0m\u001b[1;33m,\u001b[0m\u001b[1;33m-\u001b[0m\u001b[0mf_max\u001b[0m\u001b[1;33m,\u001b[0m\u001b[0mf_max\u001b[0m\u001b[1;33m)\u001b[0m\u001b[1;33m\u001b[0m\u001b[1;33m\u001b[0m\u001b[0m\n\u001b[1;32m---> 18\u001b[1;33m         \u001b[0mstate\u001b[0m\u001b[1;33m,\u001b[0m \u001b[0mreward\u001b[0m\u001b[1;33m,\u001b[0m \u001b[0mdone\u001b[0m\u001b[1;33m,\u001b[0m \u001b[0m_\u001b[0m \u001b[1;33m=\u001b[0m \u001b[0menv\u001b[0m\u001b[1;33m.\u001b[0m\u001b[0mstep\u001b[0m\u001b[1;33m(\u001b[0m\u001b[1;33m[\u001b[0m\u001b[0mu\u001b[0m\u001b[1;33m]\u001b[0m\u001b[1;33m)\u001b[0m\u001b[1;33m\u001b[0m\u001b[1;33m\u001b[0m\u001b[0m\n\u001b[0m\u001b[0;32m     19\u001b[0m         \u001b[0mcost\u001b[0m\u001b[1;33m+=\u001b[0m\u001b[1;33m-\u001b[0m\u001b[0mreward\u001b[0m\u001b[1;33m\u001b[0m\u001b[1;33m\u001b[0m\u001b[0m\n\u001b[0;32m     20\u001b[0m         \u001b[1;32mif\u001b[0m \u001b[0mdone\u001b[0m\u001b[1;33m:\u001b[0m\u001b[1;33m\u001b[0m\u001b[1;33m\u001b[0m\u001b[0m\n",
      "\u001b[1;32mC:\\zax\\course\\AM232\\project\\env\\cartpole_LQR.py\u001b[0m in \u001b[0;36m_step\u001b[1;34m(self, action)\u001b[0m\n\u001b[0;32m     84\u001b[0m         \u001b[0mself\u001b[0m\u001b[1;33m.\u001b[0m\u001b[0mdiscount\u001b[0m\u001b[1;33m*=\u001b[0m\u001b[0mself\u001b[0m\u001b[1;33m.\u001b[0m\u001b[0mgamma\u001b[0m\u001b[1;33m\u001b[0m\u001b[1;33m\u001b[0m\u001b[0m\n\u001b[0;32m     85\u001b[0m         \u001b[0mu\u001b[0m\u001b[1;33m=\u001b[0m\u001b[0maction\u001b[0m\u001b[1;33m[\u001b[0m\u001b[1;36m0\u001b[0m\u001b[1;33m]\u001b[0m\u001b[1;33m\u001b[0m\u001b[1;33m\u001b[0m\u001b[0m\n\u001b[1;32m---> 86\u001b[1;33m         \u001b[0mcost\u001b[0m\u001b[1;33m=\u001b[0m\u001b[0mself\u001b[0m\u001b[1;33m.\u001b[0m\u001b[0mR\u001b[0m\u001b[1;33m*\u001b[0m\u001b[0mu\u001b[0m\u001b[1;33m**\u001b[0m\u001b[1;36m2\u001b[0m\u001b[1;33m+\u001b[0m\u001b[0mdiff\u001b[0m\u001b[1;33m.\u001b[0m\u001b[0mT\u001b[0m\u001b[1;33m.\u001b[0m\u001b[0mdot\u001b[0m\u001b[1;33m(\u001b[0m\u001b[0mself\u001b[0m\u001b[1;33m.\u001b[0m\u001b[0mQ\u001b[0m\u001b[1;33m)\u001b[0m\u001b[1;33m.\u001b[0m\u001b[0mdot\u001b[0m\u001b[1;33m(\u001b[0m\u001b[0mdiff\u001b[0m\u001b[1;33m)\u001b[0m\u001b[1;33m\u001b[0m\u001b[1;33m\u001b[0m\u001b[0m\n\u001b[0m\u001b[0;32m     87\u001b[0m         \u001b[0mcost\u001b[0m\u001b[1;33m*=\u001b[0m\u001b[0mself\u001b[0m\u001b[1;33m.\u001b[0m\u001b[0mdiscount\u001b[0m\u001b[1;33m\u001b[0m\u001b[1;33m\u001b[0m\u001b[0m\n\u001b[0;32m     88\u001b[0m \u001b[1;33m\u001b[0m\u001b[0m\n",
      "\u001b[1;31mKeyboardInterrupt\u001b[0m: "
     ]
    }
   ],
   "source": [
    "lr=0.0005\n",
    "gamma=0.99\n",
    "for epoch in range(max_epoch):\n",
    "    local_Ks=[]\n",
    "    for i in range(m):\n",
    "        K_local=K_global\n",
    "        \n",
    "        for t in range(H):\n",
    "            z_K,z_g=gr_2(Q,R,K_local,local_gs[i],x_=x_track[i],x_0=x_0[i],gamma=gamma)\n",
    "            #print(z_K,z_g)\n",
    "            K_local=K_local-lr*z_K\n",
    "            local_gs[i]=local_gs[i]-lr*z_g/m\n",
    "        local_Ks.append(np.array(K_local))\n",
    "    #print(np.stack(local_Ks).shape)\n",
    "    K_global=np.mean(np.stack(local_Ks),axis=0)\n",
    "    #print(K_global)\n",
    "    #print(local_gs[0])\n",
    "    mean_cost=np.sum([Cost(Q,R,K_global,local_gs[i],x_track[i],state_0=x_0[i],gamma=gamma) for i in range(m)])/m\n",
    "    if epoch%100==0:\n",
    "        print(f\"epoch:{epoch}, average cost:{mean_cost}\")\n",
    "    cost1.append(mean_cost)"
   ]
  },
  {
   "cell_type": "code",
   "execution_count": null,
   "metadata": {},
   "outputs": [],
   "source": [
    "from matplotlib import rc\n",
    "rc('text', usetex=False)\n",
    "plt.figure(figsize=(6,4))\n",
    "\n",
    "plt.plot(np.arange(10000),cost1[:10000],\"-\",label=\"Federated H=1\",linewidth=2)\n",
    "\n",
    "\n",
    "\n",
    "\n",
    "#plt.xscale('log')\n",
    "#plt.yscale('log')\n",
    "#plt.xlim(0,1050)\n",
    "plt.legend(loc=1,prop={'size':12})\n",
    "\n",
    "plt.rc('xtick', labelsize=16)    # fontsize of the tick labels\n",
    "plt.rc('ytick', labelsize=16) \n",
    "plt.ylabel(\"Cost\",fontsize=20)\n",
    "plt.xlabel(\"Number of Iterations, $T$\",fontsize=20)\n",
    "plt.grid(linestyle='--')\n",
    "plt.show()\n",
    "plt.savefig('nolinear.eps', format='eps')"
   ]
  },
  {
   "cell_type": "code",
   "execution_count": 269,
   "metadata": {},
   "outputs": [
    {
     "ename": "NameError",
     "evalue": "name 'state_0' is not defined",
     "output_type": "error",
     "traceback": [
      "\u001b[1;31m---------------------------------------------------------------------------\u001b[0m",
      "\u001b[1;31mNameError\u001b[0m                                 Traceback (most recent call last)",
      "\u001b[1;32m<ipython-input-269-3a7989a44074>\u001b[0m in \u001b[0;36m<module>\u001b[1;34m\u001b[0m\n\u001b[0;32m      1\u001b[0m \u001b[0menv\u001b[0m \u001b[1;33m=\u001b[0m \u001b[0mgym\u001b[0m\u001b[1;33m.\u001b[0m\u001b[0mmake\u001b[0m\u001b[1;33m(\u001b[0m\u001b[1;34m'CartPoleLQR-v0'\u001b[0m\u001b[1;33m)\u001b[0m\u001b[1;33m.\u001b[0m\u001b[0menv\u001b[0m\u001b[1;33m\u001b[0m\u001b[1;33m\u001b[0m\u001b[0m\n\u001b[1;32m----> 2\u001b[1;33m \u001b[0mstate\u001b[0m \u001b[1;33m=\u001b[0m \u001b[0menv\u001b[0m\u001b[1;33m.\u001b[0m\u001b[0mreset\u001b[0m\u001b[1;33m(\u001b[0m\u001b[0mQ\u001b[0m\u001b[1;33m,\u001b[0m\u001b[0mR\u001b[0m\u001b[1;33m,\u001b[0m\u001b[0mstate_track\u001b[0m\u001b[1;33m,\u001b[0m\u001b[0mstate_0\u001b[0m\u001b[1;33m,\u001b[0m\u001b[0mgamma\u001b[0m\u001b[1;33m)\u001b[0m\u001b[1;33m\u001b[0m\u001b[1;33m\u001b[0m\u001b[0m\n\u001b[0m\u001b[0;32m      3\u001b[0m \u001b[0mcost\u001b[0m\u001b[1;33m=\u001b[0m\u001b[1;36m0\u001b[0m\u001b[1;33m\u001b[0m\u001b[1;33m\u001b[0m\u001b[0m\n\u001b[0;32m      4\u001b[0m \u001b[0mimg\u001b[0m \u001b[1;33m=\u001b[0m \u001b[0mplt\u001b[0m\u001b[1;33m.\u001b[0m\u001b[0mimshow\u001b[0m\u001b[1;33m(\u001b[0m\u001b[0menv\u001b[0m\u001b[1;33m.\u001b[0m\u001b[0mrender\u001b[0m\u001b[1;33m(\u001b[0m\u001b[0mmode\u001b[0m\u001b[1;33m=\u001b[0m\u001b[1;34m'rgb_array'\u001b[0m\u001b[1;33m)\u001b[0m\u001b[1;33m)\u001b[0m\u001b[1;33m\u001b[0m\u001b[1;33m\u001b[0m\u001b[0m\n\u001b[0;32m      5\u001b[0m \u001b[1;32mwhile\u001b[0m \u001b[1;32mTrue\u001b[0m\u001b[1;33m:\u001b[0m\u001b[1;33m\u001b[0m\u001b[1;33m\u001b[0m\u001b[0m\n",
      "\u001b[1;31mNameError\u001b[0m: name 'state_0' is not defined"
     ]
    }
   ],
   "source": [
    "env = gym.make('CartPoleLQR-v0').env\n",
    "state = env.reset(Q,R,state_track,state_0,gamma)\n",
    "cost=0\n",
    "img = plt.imshow(env.render(mode='rgb_array'))\n",
    "while True:\n",
    "    #img.set_data(env.render(mode='rgb_array')) # just update the data\n",
    "    #display.display(plt.gcf())\n",
    "    #display.clear_output(wait=True)\n",
    "    u=K.dot(np.array(state))+g\n",
    "\n",
    "    #print(cost)\n",
    "    state, reward, done, _ = env.step([1])\n",
    "    cost+=-reward\n",
    "    if done:\n",
    "        break"
   ]
  },
  {
   "cell_type": "code",
   "execution_count": 21,
   "metadata": {},
   "outputs": [
    {
     "data": {
      "text/plain": [
       "array([[-4.68299821, -3.28195466, 10.14700093, 18.32834617]])"
      ]
     },
     "execution_count": 21,
     "metadata": {},
     "output_type": "execute_result"
    }
   ],
   "source": [
    "K_global# good"
   ]
  },
  {
   "cell_type": "code",
   "execution_count": 52,
   "metadata": {},
   "outputs": [
    {
     "data": {
      "text/plain": [
       "array([[-3.7036208 ,  8.76492109, 17.30110446, 30.86955573]])"
      ]
     },
     "execution_count": 52,
     "metadata": {},
     "output_type": "execute_result"
    }
   ],
   "source": [
    "K_global"
   ]
  },
  {
   "cell_type": "code",
   "execution_count": 54,
   "metadata": {},
   "outputs": [
    {
     "data": {
      "text/plain": [
       "array([[3.223331]])"
      ]
     },
     "execution_count": 54,
     "metadata": {},
     "output_type": "execute_result"
    }
   ],
   "source": [
    "g_global"
   ]
  },
  {
   "cell_type": "code",
   "execution_count": null,
   "metadata": {},
   "outputs": [],
   "source": []
  }
 ],
 "metadata": {
  "kernelspec": {
   "display_name": "Python 3",
   "language": "python",
   "name": "python3"
  },
  "language_info": {
   "codemirror_mode": {
    "name": "ipython",
    "version": 3
   },
   "file_extension": ".py",
   "mimetype": "text/x-python",
   "name": "python",
   "nbconvert_exporter": "python",
   "pygments_lexer": "ipython3",
   "version": "3.7.6"
  }
 },
 "nbformat": 4,
 "nbformat_minor": 4
}
