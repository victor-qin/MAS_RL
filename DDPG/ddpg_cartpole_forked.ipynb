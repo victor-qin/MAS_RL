{
 "cells": [
  {
   "cell_type": "code",
   "execution_count": 2,
   "metadata": {},
   "outputs": [],
   "source": [
    "## Taken from https://github.com/marload/DeepRL-TensorFlow2 ##\n",
    "\n",
    "import wandb\n",
    "import tensorflow as tf\n",
    "from tensorflow.keras.layers import Input, Dense, Lambda, concatenate\n",
    "import numba\n",
    "# import tensorflow_federated as tff"
   ]
  },
  {
   "cell_type": "code",
   "execution_count": 3,
   "metadata": {},
   "outputs": [],
   "source": [
    "import gym\n",
    "import argparse\n",
    "import numpy as np\n",
    "import random\n",
    "from collections import deque\n",
    "\n",
    "tf.keras.backend.set_floatx('float64')\n",
    "\n",
    "# parser = argparse.ArgumentParser()\n",
    "# parser.add_argument('--gamma', type=float, default=0.99)\n",
    "# parser.add_argument('--actor_lr', type=float, default=0.0005)\n",
    "# parser.add_argument('--critic_lr', type=float, default=0.001)\n",
    "# parser.add_argument('--batch_size', type=int, default=64)\n",
    "# parser.add_argument('--tau', type=float, default=0.05)\n",
    "# parser.add_argument('--train_start', type=int, default=2000)\n",
    "\n",
    "# args = parser.parse_args()\n",
    "\n",
    "\n",
    "\n",
    "# class Args:\n",
    "#     gamma = 0.99\n",
    "#     actor_lr = 0.0005\n",
    "#     critic_lr = 0.0005\n",
    "#     batch_size = 64\n",
    "#     tau = 0.05\n",
    "#     train_start = 400\n",
    "#     episodes = 10\n",
    "#     N = 3\n",
    "#     epochs = 100\n",
    "\n",
    "# args = Args()"
   ]
  },
  {
   "cell_type": "code",
   "execution_count": 4,
   "metadata": {},
   "outputs": [],
   "source": [
    "class ReplayBuffer:\n",
    "    def __init__(self, capacity=20000):\n",
    "        self.buffer = deque(maxlen=capacity)\n",
    "    \n",
    "    def put(self, state, action, reward, next_state, done):\n",
    "        self.buffer.append([state, action, reward, next_state, done])\n",
    "    \n",
    "    def sample(self):\n",
    "        sample = random.sample(self.buffer, wandb.config.batch_size)\n",
    "        states, actions, rewards, next_states, done = map(np.asarray, zip(*sample))\n",
    "        states = np.array(states).reshape(wandb.config.batch_size, -1)\n",
    "        next_states = np.array(next_states).reshape(wandb.config.batch_size, -1)\n",
    "        return states, actions, rewards, next_states, done\n",
    "    \n",
    "    def size(self):\n",
    "        return len(self.buffer)"
   ]
  },
  {
   "cell_type": "code",
   "execution_count": 5,
   "metadata": {},
   "outputs": [],
   "source": [
    "class Actor:\n",
    "    def __init__(self, state_dim, action_dim, action_bound):\n",
    "        self.state_dim = state_dim\n",
    "        self.action_dim = action_dim\n",
    "        self.action_bound = action_bound\n",
    "        self.model = self.create_model()\n",
    "        self.opt = tf.keras.optimizers.Adam(wandb.config.actor_lr)\n",
    "\n",
    "    def create_model(self):\n",
    "        return tf.keras.Sequential([\n",
    "            Input((self.state_dim,)),\n",
    "            Dense(wandb.config.actor['layer1'], activation='relu'),\n",
    "            Dense(wandb.config.actor['layer2'], activation='relu'),\n",
    "            Dense(self.action_dim, activation='tanh'),\n",
    "            Lambda(lambda x: x * self.action_bound)\n",
    "        ])\n",
    "\n",
    "    def train(self, states, q_grads):\n",
    "        with tf.GradientTape() as tape:\n",
    "            grads = tape.gradient(self.model(states), self.model.trainable_variables, -q_grads)\n",
    "        self.opt.apply_gradients(zip(grads, self.model.trainable_variables))\n",
    "    \n",
    "    def predict(self, state):\n",
    "        return self.model.predict(state)\n",
    "\n",
    "    def get_action(self, state):\n",
    "        state = np.reshape(state, [1, self.state_dim])\n",
    "        return self.model.predict(state)[0]"
   ]
  },
  {
   "cell_type": "code",
   "execution_count": 6,
   "metadata": {},
   "outputs": [],
   "source": [
    "class Critic:\n",
    "    def __init__(self, state_dim, action_dim):\n",
    "        self.state_dim = state_dim\n",
    "        self.action_dim = action_dim\n",
    "        self.model = self.create_model()\n",
    "        self.opt = tf.keras.optimizers.Adam(wandb.config.critic_lr)\n",
    "\n",
    "    def create_model(self):\n",
    "        state_input = Input((self.state_dim,))\n",
    "        s1 = Dense(wandb.config.critic['state1'], activation='relu')(state_input)\n",
    "        s2 = Dense(wandb.config.critic['state2'], activation='relu')(s1)\n",
    "        action_input = Input((self.action_dim,))\n",
    "        a1 = Dense(wandb.config.critic['actor1'], activation='relu')(action_input)\n",
    "        c1 = concatenate([s2, a1], axis=-1)\n",
    "        c2 = Dense(wandb.config.critic['cat1'], activation='relu')(c1)\n",
    "        output = Dense(1, activation='linear')(c2)\n",
    "        return tf.keras.Model([state_input, action_input], output)\n",
    "    \n",
    "    def predict(self, inputs):\n",
    "        return self.model.predict(inputs)\n",
    "    \n",
    "    def q_grads(self, states, actions):\n",
    "        actions = tf.convert_to_tensor(actions)\n",
    "        with tf.GradientTape() as tape:\n",
    "            tape.watch(actions)\n",
    "            q_values = self.model([states, actions])\n",
    "            q_values = tf.squeeze(q_values)\n",
    "        return tape.gradient(q_values, actions)\n",
    "\n",
    "    def compute_loss(self, v_pred, td_targets):\n",
    "        mse = tf.keras.losses.MeanSquaredError()\n",
    "        return mse(td_targets, v_pred)\n",
    "\n",
    "    def train(self, states, actions, td_targets):\n",
    "        with tf.GradientTape() as tape:\n",
    "            v_pred = self.model([states, actions], training=True)\n",
    "            assert v_pred.shape == td_targets.shape\n",
    "            loss = self.compute_loss(v_pred, tf.stop_gradient(td_targets))\n",
    "        grads = tape.gradient(loss, self.model.trainable_variables)\n",
    "        self.opt.apply_gradients(zip(grads, self.model.trainable_variables))\n",
    "        return loss"
   ]
  },
  {
   "cell_type": "code",
   "execution_count": 7,
   "metadata": {},
   "outputs": [],
   "source": [
    "class Agent:\n",
    "    def __init__(self, env, iden = 0):\n",
    "        self.env = env\n",
    "        self.state_dim = self.env.observation_space.shape[0]\n",
    "        self.action_dim = self.env.action_space.shape[0]\n",
    "        self.action_bound = self.env.action_space.high[0]\n",
    "\n",
    "        self.buffer = ReplayBuffer()\n",
    "\n",
    "        self.actor = Actor(self.state_dim, self.action_dim, self.action_bound)\n",
    "        self.critic = Critic(self.state_dim, self.action_dim)\n",
    "        \n",
    "        self.target_actor = Actor(self.state_dim, self.action_dim, self.action_bound)\n",
    "        self.target_critic = Critic(self.state_dim, self.action_dim)\n",
    "\n",
    "        actor_weights = self.actor.model.get_weights()\n",
    "        critic_weights = self.critic.model.get_weights()\n",
    "        self.target_actor.model.set_weights(actor_weights)\n",
    "        self.target_critic.model.set_weights(critic_weights)\n",
    "        \n",
    "        self.iden = iden\n",
    "        \n",
    "    \n",
    "    def target_update(self):\n",
    "        actor_weights = self.actor.model.get_weights()\n",
    "        t_actor_weights = self.target_actor.model.get_weights()\n",
    "        critic_weights = self.critic.model.get_weights()\n",
    "        t_critic_weights = self.target_critic.model.get_weights()\n",
    "\n",
    "        for i in range(len(actor_weights)):\n",
    "            t_actor_weights[i] = wandb.config.tau * actor_weights[i] + (1 - wandb.config.tau) * t_actor_weights[i]\n",
    "\n",
    "        for i in range(len(critic_weights)):\n",
    "            t_critic_weights[i] = wandb.config.tau * critic_weights[i] + (1 - wandb.config.tau) * t_critic_weights[i]\n",
    "        \n",
    "        self.target_actor.model.set_weights(t_actor_weights)\n",
    "        self.target_critic.model.set_weights(t_critic_weights)\n",
    "\n",
    "\n",
    "    def td_target(self, rewards, q_values, dones):\n",
    "        targets = np.asarray(q_values)\n",
    "        for i in range(q_values.shape[0]):\n",
    "            if dones[i]:\n",
    "                targets[i] = rewards[i]\n",
    "            else:\n",
    "                targets[i] = wandb.config.gamma * q_values[i]\n",
    "        return targets\n",
    "\n",
    "    def list_to_batch(self, list):\n",
    "        batch = list[0]\n",
    "        for elem in list[1:]:\n",
    "            batch = np.append(batch, elem, axis=0)\n",
    "        return batch\n",
    "    \n",
    "    def ou_noise(self, x, rho=0.15, mu=0, dt=1e-1, sigma=0.2, dim=1):\n",
    "        return x + rho * (mu-x) * dt + sigma * np.sqrt(dt) * np.random.normal(size=dim)\n",
    "    \n",
    "    def replay(self):\n",
    "        for _ in range(10):\n",
    "            states, actions, rewards, next_states, dones = self.buffer.sample()\n",
    "            target_q_values = self.target_critic.predict([next_states, self.target_actor.predict(next_states)])\n",
    "            td_targets = self.td_target(rewards, target_q_values, dones)\n",
    "            \n",
    "            self.critic.train(states, actions, td_targets)\n",
    "            \n",
    "            s_actions = self.actor.predict(states)\n",
    "            s_grads = self.critic.q_grads(states, s_actions)\n",
    "            grads = np.array(s_grads).reshape((-1, self.action_dim))\n",
    "            self.actor.train(states, grads)\n",
    "            self.target_update()\n",
    "\n",
    "    def train(self, max_episodes=1000):\n",
    "        for ep in range(max_episodes):      # train a bunch of episodes\n",
    "            episode_reward, done = 0, False\n",
    "\n",
    "            state = self.env.reset()\n",
    "            bg_noise = np.zeros(self.action_dim)\n",
    "            while not done:    # run till done by hitting the action that's done\n",
    "#                 self.env.render()\n",
    "                action = self.actor.get_action(state)   # pick an action, add noise, clip the action\n",
    "                noise = self.ou_noise(bg_noise, dim=self.action_dim)\n",
    "                action = np.clip(action + noise, -self.action_bound, self.action_bound)\n",
    "\n",
    "                next_state, reward, done, _ = self.env.step(action)\n",
    "                self.buffer.put(state, action, (reward+8)/8, next_state, done)\n",
    "                bg_noise = noise     # why does the noise wander in such a weird way\n",
    "                episode_reward += reward\n",
    "                state = next_state\n",
    "                \n",
    "            if self.buffer.size() >= wandb.config.batch_size and self.buffer.size() >= wandb.config.train_start:    # update the states if enough\n",
    "                self.replay()                \n",
    "            print('EP{} EpisodeReward={}'.format(ep, episode_reward))\n",
    "            wandb.log({'Reward' + str(self.iden): episode_reward})\n",
    "            \n",
    "        return episode_reward"
   ]
  },
  {
   "cell_type": "code",
   "execution_count": 25,
   "metadata": {
    "scrolled": true
   },
   "outputs": [
    {
     "data": {
      "text/html": [
       "\n",
       "                Tracking run with wandb version 0.10.10<br/>\n",
       "                Syncing run <strong style=\"color:#cdcd00\">DDPG-multiple-long</strong> to <a href=\"https://wandb.ai\" target=\"_blank\">Weights & Biases</a> <a href=\"https://docs.wandb.com/integrations/jupyter.html\" target=\"_blank\">(Documentation)</a>.<br/>\n",
       "                Project page: <a href=\"https://wandb.ai/victor-qin/deep-rl-tf2\" target=\"_blank\">https://wandb.ai/victor-qin/deep-rl-tf2</a><br/>\n",
       "                Run page: <a href=\"https://wandb.ai/victor-qin/deep-rl-tf2/runs/1i7jgc0z\" target=\"_blank\">https://wandb.ai/victor-qin/deep-rl-tf2/runs/1i7jgc0z</a><br/>\n",
       "                Run data is saved locally in <code>/n/home05/vqin/fasrc/es100_workspace/wandb/run-20201125_220502-1i7jgc0z</code><br/><br/>\n",
       "            "
      ],
      "text/plain": [
       "<IPython.core.display.HTML object>"
      ]
     },
     "metadata": {},
     "output_type": "display_data"
    },
    {
     "name": "stdout",
     "output_type": "stream",
     "text": [
      "{'gamma': 0.99, 'actor_lr': 0.001, 'critic_lr': 0.0001, 'batch_size': 64, 'tau': 0.005, 'train_start': 400, 'episodes': 5, 'num': 3, 'epochs': 2, 'actor': {'layer1': 128, 'layer2': 128}, 'critic': {'state1': 256, 'state2': 128, 'actor1': 128, 'cat1': 64}}\n",
      "Training Agent 0\n",
      "EP0 EpisodeReward=-1618.2978326110708\n",
      "EP1 EpisodeReward=-1320.6920827798501\n",
      "EP2 EpisodeReward=-1309.780001567266\n",
      "EP3 EpisodeReward=-1669.3555635656592\n",
      "EP4 EpisodeReward=-1555.8289035570126\n",
      "Training Agent 1\n",
      "EP0 EpisodeReward=-1154.3043278771856\n",
      "EP1 EpisodeReward=-1197.2978441269431\n",
      "EP2 EpisodeReward=-1415.4956745005588\n",
      "EP3 EpisodeReward=-1216.7546197784213\n",
      "EP4 EpisodeReward=-1472.3796587933227\n",
      "Training Agent 2\n",
      "EP0 EpisodeReward=-1715.7008176403021\n",
      "EP1 EpisodeReward=-1015.2949755587437\n",
      "EP2 EpisodeReward=-1650.783800363374\n",
      "EP3 EpisodeReward=-1590.536368846822\n",
      "EP4 EpisodeReward=-1397.2612344751867\n",
      "Epoch=0\t Average reward=-1475.1565989418407\n",
      "Training Agent 0\n",
      "EP0 EpisodeReward=-1260.2629027340104\n",
      "EP1 EpisodeReward=-1182.474521534266\n",
      "EP2 EpisodeReward=-1487.8602025899695\n",
      "EP3 EpisodeReward=-1301.4788906298527\n",
      "EP4 EpisodeReward=-1745.0605239378267\n",
      "Training Agent 1\n",
      "EP0 EpisodeReward=-1297.3684726834922\n",
      "EP1 EpisodeReward=-1527.6467641552042\n",
      "EP2 EpisodeReward=-900.6441050995951\n",
      "EP3 EpisodeReward=-1681.5372900536397\n",
      "EP4 EpisodeReward=-1209.3053698975887\n",
      "Training Agent 2\n",
      "EP0 EpisodeReward=-1327.4586152802601\n",
      "EP1 EpisodeReward=-1898.7247890944743\n",
      "EP2 EpisodeReward=-1261.6694755306999\n",
      "EP3 EpisodeReward=-1399.410127510815\n",
      "EP4 EpisodeReward=-1287.4993591227526\n",
      "Epoch=1\t Average reward=-1413.9550843193895\n"
     ]
    },
    {
     "data": {
      "text/html": [
       "<br/>Waiting for W&B process to finish, PID 241931<br/>Program ended successfully."
      ],
      "text/plain": [
       "<IPython.core.display.HTML object>"
      ]
     },
     "metadata": {},
     "output_type": "display_data"
    },
    {
     "data": {
      "text/html": [
       "Find user logs for this run at: <code>/n/home05/vqin/fasrc/es100_workspace/wandb/run-20201125_220502-1i7jgc0z/logs/debug.log</code>"
      ],
      "text/plain": [
       "<IPython.core.display.HTML object>"
      ]
     },
     "metadata": {},
     "output_type": "display_data"
    },
    {
     "data": {
      "text/html": [
       "Find internal logs for this run at: <code>/n/home05/vqin/fasrc/es100_workspace/wandb/run-20201125_220502-1i7jgc0z/logs/debug-internal.log</code>"
      ],
      "text/plain": [
       "<IPython.core.display.HTML object>"
      ]
     },
     "metadata": {},
     "output_type": "display_data"
    },
    {
     "data": {
      "text/html": [
       "<h3>Run summary:</h3><br/><style>\n",
       "    table.wandb td:nth-child(1) { padding: 0 10px; text-align: right }\n",
       "    </style><table class=\"wandb\">\n",
       "<tr><td>Reward0</td><td>-1745.06052</td></tr><tr><td>_step</td><td>31</td></tr><tr><td>_runtime</td><td>219</td></tr><tr><td>_timestamp</td><td>1606342121</td></tr><tr><td>Reward1</td><td>-1209.30537</td></tr><tr><td>Reward2</td><td>-1287.49936</td></tr><tr><td>batch</td><td>1</td></tr><tr><td>Epoch</td><td>-1413.95508</td></tr></table>"
      ],
      "text/plain": [
       "<IPython.core.display.HTML object>"
      ]
     },
     "metadata": {},
     "output_type": "display_data"
    },
    {
     "data": {
      "text/html": [
       "<h3>Run history:</h3><br/><style>\n",
       "    table.wandb td:nth-child(1) { padding: 0 10px; text-align: right }\n",
       "    </style><table class=\"wandb\">\n",
       "<tr><td>Reward0</td><td>▃▆▆▂▃▇█▄▇▁</td></tr><tr><td>_step</td><td>▁▁▁▂▂▂▂▃▃▃▃▃▄▄▄▄▅▅▅▅▆▆▆▆▆▇▇▇▇███</td></tr><tr><td>_runtime</td><td>▁▁▁▂▂▂▂▃▃▃▃▄▄▄▄▄▅▅▅▅▆▆▆▆▇▇▇▇████</td></tr><tr><td>_timestamp</td><td>▁▁▁▂▂▂▂▃▃▃▃▄▄▄▄▄▅▅▅▅▆▆▆▆▇▇▇▇████</td></tr><tr><td>Reward1</td><td>▆▅▃▅▃▄▂█▁▅</td></tr><tr><td>Reward2</td><td>▂█▃▃▅▆▁▆▅▆</td></tr><tr><td>batch</td><td>▁█</td></tr><tr><td>Epoch</td><td>▁█</td></tr></table><br/>"
      ],
      "text/plain": [
       "<IPython.core.display.HTML object>"
      ]
     },
     "metadata": {},
     "output_type": "display_data"
    },
    {
     "data": {
      "text/html": [
       "Synced 5 W&B file(s), 0 media file(s), 0 artifact file(s) and 13 other file(s)"
      ],
      "text/plain": [
       "<IPython.core.display.HTML object>"
      ]
     },
     "metadata": {},
     "output_type": "display_data"
    },
    {
     "data": {
      "text/html": [
       "\n",
       "                    <br/>Synced <strong style=\"color:#cdcd00\">DDPG-multiple-long</strong>: <a href=\"https://wandb.ai/victor-qin/deep-rl-tf2/runs/1i7jgc0z\" target=\"_blank\">https://wandb.ai/victor-qin/deep-rl-tf2/runs/1i7jgc0z</a><br/>\n",
       "                "
      ],
      "text/plain": [
       "<IPython.core.display.HTML object>"
      ]
     },
     "metadata": {},
     "output_type": "display_data"
    }
   ],
   "source": [
    "# def main():\n",
    "if __name__ == \"__main__\":\n",
    "    \n",
    "    try: wandb.finish()\n",
    "    except: pass\n",
    "    \n",
    "    ####configurations\n",
    "    wandb.init(name='DDPG-multiple-long', project=\"deep-rl-tf2\")\n",
    "    env_name = 'Pendulum-v0'\n",
    "\n",
    "    \n",
    "    wandb.config.gamma = 0.99\n",
    "    wandb.config.actor_lr = 0.001\n",
    "    wandb.config.critic_lr = 0.0001\n",
    "    wandb.config.batch_size = 64\n",
    "    wandb.config.tau = 0.005\n",
    "    wandb.config.train_start = 400\n",
    "    wandb.config.episodes = 5\n",
    "    wandb.config.num = 3\n",
    "    wandb.config.epochs = 2\n",
    "\n",
    "    wandb.config.actor = {'layer1': 128, 'layer2' : 128}\n",
    "    wandb.config.critic = {'state1': 256, 'state2': 128, 'actor1': 128, 'cat1': 64}\n",
    "    \n",
    "    print(wandb.config)\n",
    "    \n",
    "    # main run    \n",
    "    N = wandb.config.num\n",
    "    agents = []\n",
    "    \n",
    "    # set up the agent\n",
    "    for i in range(N):\n",
    "        env_t = gym.make(env_name)\n",
    "        agents.append(Agent(env_t, i))\n",
    "\n",
    "    # start the training\n",
    "    for z in range(wandb.config.epochs):\n",
    "\n",
    "        reward = 0\n",
    "        # train the agent\n",
    "        for j in range(len(agents)):\n",
    "            print('Training Agent {}'.format(agents[j].iden))\n",
    "            reward += agents[j].train(wandb.config.episodes)\n",
    "    \n",
    "        reward = reward / N\n",
    "        print('Epoch={}\\t Average reward={}'.format(z, reward))\n",
    "        wandb.log({'batch': z, 'Epoch': reward})\n",
    "\n",
    "\n",
    "        # get the average - actor and critic\n",
    "        critic_avg = []\n",
    "        actor_avg = []\n",
    "\n",
    "        for i in range(len(agents[0].actor.model.get_weights())):\n",
    "            \n",
    "            actor_t = agents[0].actor.model.get_weights()[i]\n",
    "\n",
    "            for j in range(1, N):\n",
    "                actor_t += agents[j].actor.model.get_weights()[i]\n",
    "\n",
    "            actor_t = actor_t / N\n",
    "            actor_avg.append(actor_t)\n",
    "\n",
    "\n",
    "        for i in range(len(agents[0].critic.model.get_weights())):\n",
    "            critic_t = agents[0].critic.model.get_weights()[i]\n",
    "\n",
    "            for j in range(1, N):\n",
    "                critic_t += agents[j].critic.model.get_weights()[i]\n",
    "\n",
    "            critic_t = critic_t / N\n",
    "            critic_avg.append(critic_t)\n",
    "\n",
    "\n",
    "        # set the average\n",
    "        for j in range(N):\n",
    "            agents[j].actor.model.set_weights(actor_avg)\n",
    "            agents[j].critic.model.set_weights(critic_avg)\n",
    "\n",
    "\n",
    "    # wrtie things out\n",
    "    for j in range(N):\n",
    "\n",
    "        \n",
    "#         with open(wandb.run.dir + wandb.run.id() + \"-agent{}-actor.txt\".format(j), \"w\") as f:\n",
    "#             f.write(str(agents[j].actor.model.get_weights()))\n",
    "#             f.close()\n",
    "#         wandb.save(wandb.run.dir + \"agent{}-actor.txt\".format(j))\n",
    "        \n",
    "        \n",
    "#         with open(wandb.run.dir + \"agent{}-critic.txt\".format(j), \"w\") as f:\n",
    "#             f.write(str(agents[j].critic.model.get_weights()))\n",
    "#             f.close()\n",
    "#         wandb.save(wandb.run.dir + \"agent{}-critic.txt\".format(j))\n",
    "\n",
    "    \n",
    "    wandb.finish()\n",
    "    \n",
    "# if __name__ == \"__main__\":\n",
    "#     main()\n",
    "    "
   ]
  },
  {
   "cell_type": "code",
   "execution_count": 23,
   "metadata": {},
   "outputs": [
    {
     "name": "stderr",
     "output_type": "stream",
     "text": [
      "\u001b[34m\u001b[1mwandb\u001b[0m: \u001b[33mWARNING\u001b[0m Saving files without folders. If you want to preserve sub directories pass base_path to wandb.save, i.e. wandb.save(\"/mnt/folder/file.h5\", base_path=\"/mnt\")\n"
     ]
    },
    {
     "data": {
      "text/plain": [
       "[]"
      ]
     },
     "execution_count": 23,
     "metadata": {},
     "output_type": "execute_result"
    }
   ],
   "source": [
    "agents[j].actor.model.save_weights(wandb.run.dir + \"/\" + wandb.run.id + \"-agent{}-actor.txt\".format(j))\n",
    "wandb.save(wandb.run.dir + \"/\" + wandb.run.id + \"-agent{}-actor.txt\".format(j))\n",
    "# st = './' + wandb.run.dir + '/' + wandb.run.id\n",
    "# print(st)"
   ]
  },
  {
   "cell_type": "code",
   "execution_count": 24,
   "metadata": {},
   "outputs": [
    {
     "data": {
      "text/html": [
       "<br/>Waiting for W&B process to finish, PID 207520<br/>Program ended successfully."
      ],
      "text/plain": [
       "<IPython.core.display.HTML object>"
      ]
     },
     "metadata": {},
     "output_type": "display_data"
    },
    {
     "data": {
      "text/html": [
       "Find user logs for this run at: <code>/n/home05/vqin/fasrc/es100_workspace/wandb/run-20201125_205246-hdg0xw93/logs/debug.log</code>"
      ],
      "text/plain": [
       "<IPython.core.display.HTML object>"
      ]
     },
     "metadata": {},
     "output_type": "display_data"
    },
    {
     "data": {
      "text/html": [
       "Find internal logs for this run at: <code>/n/home05/vqin/fasrc/es100_workspace/wandb/run-20201125_205246-hdg0xw93/logs/debug-internal.log</code>"
      ],
      "text/plain": [
       "<IPython.core.display.HTML object>"
      ]
     },
     "metadata": {},
     "output_type": "display_data"
    },
    {
     "data": {
      "text/html": [
       "<h3>Run summary:</h3><br/><style>\n",
       "    table.wandb td:nth-child(1) { padding: 0 10px; text-align: right }\n",
       "    </style><table class=\"wandb\">\n",
       "<tr><td>Reward0</td><td>-1195.23171</td></tr><tr><td>_step</td><td>36</td></tr><tr><td>_runtime</td><td>2979</td></tr><tr><td>_timestamp</td><td>1606340545</td></tr><tr><td>Reward1</td><td>-1785.90016</td></tr><tr><td>Reward2</td><td>-1275.39651</td></tr><tr><td>batch</td><td>1</td></tr><tr><td>Epoch</td><td>-1418.84279</td></tr><tr><td>Reward5</td><td>-1326.74586</td></tr></table>"
      ],
      "text/plain": [
       "<IPython.core.display.HTML object>"
      ]
     },
     "metadata": {},
     "output_type": "display_data"
    },
    {
     "data": {
      "text/html": [
       "<h3>Run history:</h3><br/><style>\n",
       "    table.wandb td:nth-child(1) { padding: 0 10px; text-align: right }\n",
       "    </style><table class=\"wandb\">\n",
       "<tr><td>Reward0</td><td>▃█▆▄▄▅▁▄▃▆</td></tr><tr><td>_step</td><td>▁▁▁▂▂▂▂▂▃▃▃▃▃▄▄▄▄▄▅▅▅▅▅▅▆▆▆▆▆▇▇▇▇▇███</td></tr><tr><td>_runtime</td><td>▁▁▁▁▁▁▁▁▁▁▁▁▁▁▁▁▁▁▁▁▁▁▁▁▁▁▁▁▁▁▁▁█████</td></tr><tr><td>_timestamp</td><td>▁▁▁▁▁▁▁▁▁▁▁▁▁▁▁▁▁▁▁▁▁▁▁▁▁▁▁▁▁▁▁▁█████</td></tr><tr><td>Reward1</td><td>▄▇█▃▃█▂▁▁▁</td></tr><tr><td>Reward2</td><td>▅█▅▆▁▅▃▆▂▅</td></tr><tr><td>batch</td><td>▁█</td></tr><tr><td>Epoch</td><td>▁█</td></tr><tr><td>Reward5</td><td>▁▂▃▅█</td></tr></table><br/>"
      ],
      "text/plain": [
       "<IPython.core.display.HTML object>"
      ]
     },
     "metadata": {},
     "output_type": "display_data"
    },
    {
     "data": {
      "text/html": [
       "Synced 5 W&B file(s), 0 media file(s), 0 artifact file(s) and 5 other file(s)"
      ],
      "text/plain": [
       "<IPython.core.display.HTML object>"
      ]
     },
     "metadata": {},
     "output_type": "display_data"
    },
    {
     "data": {
      "text/html": [
       "\n",
       "                    <br/>Synced <strong style=\"color:#cdcd00\">DDPG-multiple-long</strong>: <a href=\"https://wandb.ai/victor-qin/deep-rl-tf2/runs/hdg0xw93\" target=\"_blank\">https://wandb.ai/victor-qin/deep-rl-tf2/runs/hdg0xw93</a><br/>\n",
       "                "
      ],
      "text/plain": [
       "<IPython.core.display.HTML object>"
      ]
     },
     "metadata": {},
     "output_type": "display_data"
    }
   ],
   "source": [
    "wandb.finish()"
   ]
  },
  {
   "cell_type": "code",
   "execution_count": 22,
   "metadata": {},
   "outputs": [
    {
     "name": "stdout",
     "output_type": "stream",
     "text": [
      "EP0 EpisodeReward=-1814.7723910898906\n",
      "EP1 EpisodeReward=-1778.3727616439553\n",
      "EP2 EpisodeReward=-1695.057725756254\n",
      "EP3 EpisodeReward=-1544.5524373830822\n",
      "EP4 EpisodeReward=-1326.7458598531082\n"
     ]
    },
    {
     "data": {
      "text/plain": [
       "-1326.7458598531082"
      ]
     },
     "execution_count": 22,
     "metadata": {},
     "output_type": "execute_result"
    }
   ],
   "source": [
    "env_t = gym.make('Pendulum-v0')\n",
    "\n",
    "test = Agent(env_t, 5)\n",
    "test.actor.model.load_weights(wandb.run.dir + \"/\" + wandb.run.id)\n",
    "test.train(wandb.config.episodes)"
   ]
  },
  {
   "cell_type": "code",
   "execution_count": null,
   "metadata": {},
   "outputs": [],
   "source": [
    "# import pandas\n",
    "wandb.finish()\n",
    "api = wandb.Api()\n",
    "run = api.run(\"victor-qin/deep-rl-tf2/1s1ac3wo\")\n",
    "temp = run.history()\n",
    "# print(run.scan_history())\n",
    "# enumerate(run.history())"
   ]
  },
  {
   "cell_type": "code",
   "execution_count": null,
   "metadata": {},
   "outputs": [],
   "source": [
    "if run.state == \"finished\":\n",
    "    for i, row in enumerate(run.scan_history()):\n",
    "        try: print(row[\"_runtime\"],'\\t', row[\"Epoch\"])\n",
    "        except: pass"
   ]
  },
  {
   "cell_type": "code",
   "execution_count": null,
   "metadata": {},
   "outputs": [],
   "source": [
    "# critic_avg = []\n",
    "# actor_avg = []\n",
    "# for i in range(len(agent1.actor.model.get_weights())):\n",
    "#     critic_avg.append(agent1.critic.model.get_weights()[i] + agent2.critic.model.get_weights()[i])\n",
    "#     actor_avg.append(agent1.actor.model.get_weights()[i] + agent2.actor.model.get_weights()[i])\n",
    "    \n",
    "#     agent1.critic.model.set_weights = critic_avg[i]\n",
    "#     agent2.critic.model.set_weights = critic_avg[i]\n",
    "    \n",
    "#     agent1.actor.model.set_weights = actor_avg[i]\n",
    "#     agent2.actor.model.set_weights = actor_avg[i]\n",
    "    \n",
    "# agent1.train(1)\n",
    "# agent2.train(1)"
   ]
  },
  {
   "cell_type": "code",
   "execution_count": null,
   "metadata": {},
   "outputs": [],
   "source": [
    "# def main():\n",
    "#     wandb.init(name='DDPG', project=\"deep-rl-tf2\")\n",
    "#     env_name = 'Pendulum-v0'\n",
    "#     env = gym.make(env_name)\n",
    "#     agent = Agent(env)\n",
    "#     agent.train()\n",
    "\n",
    "\n",
    "# if __name__ == \"__main__\":\n",
    "#     main()"
   ]
  },
  {
   "cell_type": "code",
   "execution_count": null,
   "metadata": {},
   "outputs": [],
   "source": []
  }
 ],
 "metadata": {
  "kernelspec": {
   "display_name": "Python [conda env:.conda-es100]",
   "language": "python",
   "name": "conda-env-.conda-es100-py"
  },
  "language_info": {
   "codemirror_mode": {
    "name": "ipython",
    "version": 3
   },
   "file_extension": ".py",
   "mimetype": "text/x-python",
   "name": "python",
   "nbconvert_exporter": "python",
   "pygments_lexer": "ipython3",
   "version": "3.7.9"
  },
  "toc-autonumbering": true,
  "toc-showcode": true,
  "toc-showmarkdowntxt": true
 },
 "nbformat": 4,
 "nbformat_minor": 4
}
